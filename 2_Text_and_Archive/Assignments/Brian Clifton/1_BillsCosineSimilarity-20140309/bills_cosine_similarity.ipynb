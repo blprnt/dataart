{
 "metadata": {
  "name": "",
  "signature": "sha256:18c4737e5911815276c0988cd6e78db5c877a9612aae75da8ad5d8675315eab0"
 },
 "nbformat": 3,
 "nbformat_minor": 0,
 "worksheets": [
  {
   "cells": [
    {
     "cell_type": "code",
     "collapsed": false,
     "input": [
      "import json\n",
      "import re\n",
      "import nltk\n",
      "import string"
     ],
     "language": "python",
     "metadata": {},
     "outputs": [],
     "prompt_number": 33
    },
    {
     "cell_type": "code",
     "collapsed": false,
     "input": [
      "with open('114_house_bills_votes_textSummary.json') as f:\n",
      "    data = json.load(f)"
     ],
     "language": "python",
     "metadata": {},
     "outputs": [],
     "prompt_number": 5
    },
    {
     "cell_type": "code",
     "collapsed": false,
     "input": [
      "print data['hr100']['text']"
     ],
     "language": "python",
     "metadata": {},
     "outputs": [
      {
       "output_type": "stream",
       "stream": "stdout",
       "text": [
        "\n",
        "[Congressional Bills 114th Congress]\n",
        "[From the U.S. Government Printing Office]\n",
        "[H.R. 100 Introduced in House (IH)]\n",
        "\n",
        "114th CONGRESS\n",
        " 1st Session\n",
        " H. R. 100\n",
        "\n",
        " To amend title 11 of the United States Code to stop abusive student \n",
        " loan collection practices in bankruptcy cases.\n",
        "\n",
        "\n",
        "\n",
        "\n",
        "\n",
        " IN THE HOUSE OF REPRESENTATIVES\n",
        "\n",
        " January 6, 2015\n",
        "\n",
        " Mr. Conyers (for himself, Mr. Cohen, and Mr. Johnson of Georgia) \n",
        " introduced the following bill; which was referred to the Committee on \n",
        " the Judiciary\n",
        "\n",
        "\n",
        "\n",
        " A BILL\n",
        "\n",
        "\n",
        " \n",
        " To amend title 11 of the United States Code to stop abusive student \n",
        " loan collection practices in bankruptcy cases.\n",
        "\n",
        " Be it enacted by the Senate and House of Representatives of the \n",
        "United States of America in Congress assembled,\n",
        "\n",
        "SECTION 1. SHORT TITLE.\n",
        "\n",
        " This Act may be cited as the ``Stopping Abusive Student Loan \n",
        "Collection Practices in Bankruptcy Act of 2015''.\n",
        "\n",
        "SEC. 2. AMENDMENT.\n",
        "\n",
        " Section 523(d) of title 11 of the United States Code is amended by \n",
        "striking ``of this section'' and inserting ``or the debtor requests a \n",
        "determination of the dischargeability of a debt based on undue hardship \n",
        "under subsection (a)(8)''.\n",
        "\n",
        "SEC. 3. EFFECTIVE DATE; APPLICATION OF AMENDMENT.\n",
        "\n",
        " (a) Effective Date.--Except as provided in subsection (b), this Act \n",
        "and the amendment made by this Act shall take effect on the date of the \n",
        "enactment of this Act.\n",
        " (b) Application of Amendment.--The amendment made by this Act shall \n",
        "apply only with respect to cases commenced under title 11 of the United \n",
        "States Code on or after the date of the enactment of this Act.\n",
        " <all>\n",
        "\n"
       ]
      }
     ],
     "prompt_number": 37
    },
    {
     "cell_type": "code",
     "collapsed": false,
     "input": [
      "for entry in data.keys():\n",
      "    text = data[entry]['text']\n",
      "    text = text.replace('_', '')\n",
      "    re.sub(' +', ' ', text)\n",
      "    data[entry]['text'] = text "
     ],
     "language": "python",
     "metadata": {},
     "outputs": [],
     "prompt_number": 18
    },
    {
     "cell_type": "code",
     "collapsed": false,
     "input": [
      "with open('114_house_bills_votes_textSummary-cleaned.json', 'w') as outfile:\n",
      "    json.dump(data, outfile)"
     ],
     "language": "python",
     "metadata": {},
     "outputs": [],
     "prompt_number": 21
    },
    {
     "cell_type": "code",
     "collapsed": false,
     "input": [
      "with open('114_house_bills_votes_textSummary-cleaned.json') as f:\n",
      "    data = json.load(f)"
     ],
     "language": "python",
     "metadata": {},
     "outputs": [],
     "prompt_number": 22
    },
    {
     "cell_type": "code",
     "collapsed": false,
     "input": [
      "test_text = data['hr101']['text']"
     ],
     "language": "python",
     "metadata": {},
     "outputs": [],
     "prompt_number": 26
    },
    {
     "cell_type": "code",
     "collapsed": false,
     "input": [
      "word_count = len(test_text.split())\n",
      "print word_count"
     ],
     "language": "python",
     "metadata": {},
     "outputs": [
      {
       "output_type": "stream",
       "stream": "stdout",
       "text": [
        "3410\n"
       ]
      }
     ],
     "prompt_number": 27
    },
    {
     "cell_type": "code",
     "collapsed": false,
     "input": [],
     "language": "python",
     "metadata": {},
     "outputs": []
    },
    {
     "cell_type": "code",
     "collapsed": false,
     "input": [],
     "language": "python",
     "metadata": {},
     "outputs": []
    },
    {
     "cell_type": "code",
     "collapsed": false,
     "input": [
      "black_list_words = ['title', 'i', 'ii', 'iii', 'iv', 'v', 'vi', 'vii', 'viii', 'ix', 'x', 'part', 'subpart', 'program', 'act', 'sec']"
     ],
     "language": "python",
     "metadata": {},
     "outputs": [],
     "prompt_number": 28
    },
    {
     "cell_type": "code",
     "collapsed": false,
     "input": [
      "ignored = re.findall(r'[^A-Za-z]*', token)"
     ],
     "language": "python",
     "metadata": {},
     "outputs": [
      {
       "ename": "NameError",
       "evalue": "name 'token' is not defined",
       "output_type": "pyerr",
       "traceback": [
        "\u001b[0;31m---------------------------------------------------------------------------\u001b[0m\n\u001b[0;31mNameError\u001b[0m                                 Traceback (most recent call last)",
        "\u001b[0;32m<ipython-input-29-629042f06225>\u001b[0m in \u001b[0;36m<module>\u001b[0;34m()\u001b[0m\n\u001b[0;32m----> 1\u001b[0;31m \u001b[0mignored\u001b[0m \u001b[0;34m=\u001b[0m \u001b[0mre\u001b[0m\u001b[0;34m.\u001b[0m\u001b[0mfindall\u001b[0m\u001b[0;34m(\u001b[0m\u001b[0;34mr'[^A-Za-z]*'\u001b[0m\u001b[0;34m,\u001b[0m \u001b[0mtoken\u001b[0m\u001b[0;34m)\u001b[0m\u001b[0;34m\u001b[0m\u001b[0m\n\u001b[0m",
        "\u001b[0;31mNameError\u001b[0m: name 'token' is not defined"
       ]
      }
     ],
     "prompt_number": 29
    },
    {
     "cell_type": "code",
     "collapsed": false,
     "input": [
      "stopwords   = set(nltk.corpus.stopwords.words('english'))\n",
      "punctuation = string.punctuation"
     ],
     "language": "python",
     "metadata": {},
     "outputs": [],
     "prompt_number": 34
    },
    {
     "cell_type": "code",
     "collapsed": false,
     "input": [
      "def normalize(text):\n",
      "    for token in nltk.word_tokenize(text):\n",
      "        token = token.lower()\n",
      "#         token = lemmatizer.lemmatize(token)\n",
      "        ignored = re.findall(r'[^A-Za-z]*', token)\n",
      "        \n",
      "        if token not in stopwords and token not in punctuation and token not in ignored and token not in black_list_words and len(token) > 2:\n",
      "            yield token"
     ],
     "language": "python",
     "metadata": {},
     "outputs": [],
     "prompt_number": 35
    },
    {
     "cell_type": "code",
     "collapsed": false,
     "input": [
      "for entry in data.keys():\n",
      "    text = data[entry]['text']\n",
      "#     text = normalize(text)\n",
      "    data[entry]['text'] = text \n",
      "\n",
      "with open('114_house_bills_votes_textSummary-cleaned1.json', 'w') as outfile:\n",
      "    json.dump(data, outfile)"
     ],
     "language": "python",
     "metadata": {},
     "outputs": [],
     "prompt_number": 36
    },
    {
     "cell_type": "code",
     "collapsed": false,
     "input": [
      "with open('114_house_bills_votes_textSummary-cleaned.json') as f:\n",
      "    data = json.load(f)"
     ],
     "language": "python",
     "metadata": {},
     "outputs": [],
     "prompt_number": 39
    },
    {
     "cell_type": "code",
     "collapsed": false,
     "input": [
      "for entry in data.keys():\n",
      "    text = data[entry]['text']\n",
      "    word_count = len(text.split())\n",
      "    data[entry]['word_count'] = word_count\n"
     ],
     "language": "python",
     "metadata": {},
     "outputs": [],
     "prompt_number": 41
    },
    {
     "cell_type": "code",
     "collapsed": false,
     "input": [
      "print data['hr102']['frequency']"
     ],
     "language": "python",
     "metadata": {},
     "outputs": [
      {
       "output_type": "stream",
       "stream": "stdout",
       "text": [
        "<FreqDist with 168 samples and 330 outcomes>\n"
       ]
      }
     ],
     "prompt_number": 52
    },
    {
     "cell_type": "code",
     "collapsed": false,
     "input": [
      "for entry in data.keys():\n",
      "    text = data[entry]['text']\n",
      "    word_count = data[entry]['word_count']\n",
      "    \n",
      "    ntext = normalize(text)\n",
      "    counts  = nltk.FreqDist(ntext)\n",
      "    data[entry]['frequency'] = counts"
     ],
     "language": "python",
     "metadata": {},
     "outputs": [],
     "prompt_number": 48
    },
    {
     "cell_type": "code",
     "collapsed": false,
     "input": [
      "temp = data['hr102']['frequency']"
     ],
     "language": "python",
     "metadata": {},
     "outputs": [],
     "prompt_number": 50
    },
    {
     "cell_type": "code",
     "collapsed": false,
     "input": [
      "print dir(temp)"
     ],
     "language": "python",
     "metadata": {},
     "outputs": [
      {
       "output_type": "stream",
       "stream": "stdout",
       "text": [
        "['B', 'N', 'Nr', '__add__', '__and__', '__class__', '__cmp__', '__contains__', '__delattr__', '__delitem__', '__dict__', '__doc__', '__eq__', '__format__', '__ge__', '__getattribute__', '__getitem__', '__gt__', '__hash__', '__init__', '__iter__', '__le__', '__len__', '__lt__', '__missing__', '__module__', '__ne__', '__new__', '__or__', '__reduce__', '__reduce_ex__', '__repr__', '__setattr__', '__setitem__', '__sizeof__', '__str__', '__sub__', '__subclasshook__', '__unicode__', '__weakref__', '_cumulative_frequencies', 'clear', 'copy', 'elements', 'freq', 'fromkeys', 'get', 'hapaxes', 'has_key', 'items', 'iteritems', 'iterkeys', 'itervalues', 'keys', 'max', 'most_common', 'plot', 'pop', 'popitem', 'pprint', 'r_Nr', 'setdefault', 'subtract', 'tabulate', 'unicode_repr', 'update', 'values', 'viewitems', 'viewkeys', 'viewvalues']\n"
       ]
      }
     ],
     "prompt_number": 57
    },
    {
     "cell_type": "code",
     "collapsed": false,
     "input": [
      "total_words = data['hr102']['word_count']\n",
      "freq = []\n",
      "for k, v in temp.items():\n",
      "    v_normalized = float(v) / total_words\n",
      "    item = [k, v_normalized]\n",
      "    freq.append(item)\n",
      "print freq"
     ],
     "language": "python",
     "metadata": {},
     "outputs": [
      {
       "output_type": "stream",
       "stream": "stdout",
       "text": [
        "[[u'code', 0.0016366612111292963], [u'office', 0.0016366612111292963], [u'consent', 0.0016366612111292963], [u'misdemeanor', 0.0032733224222585926], [u'actions', 0.004909983633387889], [u'existing', 0.0016366612111292963], [u'bring', 0.0032733224222585926], [u'session', 0.0016366612111292963], [u'including', 0.004909983633387889], [u'committee', 0.004909983633387889], [u'assembled', 0.0016366612111292963], [u'causes', 0.0016366612111292963], [u'web', 0.0032733224222585926], [u'concerned', 0.0016366612111292963], [u'state', 0.0032733224222585926], [u'crime', 0.006546644844517185], [u'charge', 0.009819967266775777], [u'treatment', 0.0016366612111292963], [u'input', 0.0032733224222585926], [u'criminal', 0.008183306055646482], [u'oversight', 0.0016366612111292963], [u'congressional', 0.0016366612111292963], [u'jurisdiction', 0.0032733224222585926], [u'provisions', 0.0016366612111292963], [u'government', 0.008183306055646482], [u'rules', 0.0016366612111292963], [u'judiciary', 0.0016366612111292963], [u'number', 0.0016366612111292963], [u'action.', 0.0016366612111292963], [u'fall', 0.0016366612111292963], [u'report', 0.004909983633387889], [u'bringing', 0.0016366612111292963], [u'enacted', 0.0016366612111292963], [u'brought', 0.0016366612111292963], [u'regarding', 0.004909983633387889], [u'consist', 0.0016366612111292963], [u'january', 0.0016366612111292963], [u'magnitude', 0.0016366612111292963], [u'judicial', 0.004909983633387889], [u'bills', 0.0016366612111292963], [u'referred', 0.0016366612111292963], [u'concluded', 0.004909983633387889], [u'attorney', 0.014729950900163666], [u'official', 0.009819967266775777], [u'findings', 0.0016366612111292963], [u'senate', 0.0016366612111292963], [u'house', 0.004909983633387889], [u'penalties', 0.0032733224222585926], [u'guidelines', 0.0016366612111292963], [u'authority', 0.0016366612111292963], [u'assessed', 0.0016366612111292963], [u'officials', 0.0016366612111292963], [u'design', 0.0016366612111292963], [u'year', 0.0016366612111292963], [u'decrees', 0.0016366612111292963], [u'calendar', 0.0016366612111292963], [u'category', 0.0016366612111292963], [u'capacity', 0.004909983633387889], [u'reform', 0.0016366612111292963], [u'federal', 0.008183306055646482], [u'section', 0.0032733224222585926], [u'representatives', 0.0032733224222585926], [u'per', 0.0016366612111292963], [u'uniform', 0.0016366612111292963], [u'acting', 0.004909983633387889], [u'h.r', 0.0016366612111292963], [u'conduct', 0.0016366612111292963], [u'cause', 0.0032733224222585926], [u'public', 0.0016366612111292963], [u'available', 0.0016366612111292963], [u'parent', 0.0032733224222585926], [u'felony', 0.0032733224222585926], [u'u.s.', 0.0016366612111292963], [u'plea', 0.0016366612111292963], [u'innocence', 0.0016366612111292963], [u'consideration', 0.0016366612111292963], [u'printing', 0.0016366612111292963], [u'outcome', 0.0016366612111292963], [u'locations', 0.0016366612111292963], [u'annual', 0.0016366612111292963], [u'allows', 0.0016366612111292963], [u'creates', 0.0016366612111292963], [u'addition', 0.0016366612111292963], [u'action', 0.008183306055646482], [u'introduced', 0.0032733224222585926], [u'otherwise', 0.0016366612111292963], [u'disposition', 0.0016366612111292963], [u'civil', 0.011456628477905073], [u'within', 0.0032733224222585926], [u'period', 0.0016366612111292963], [u'improper', 0.0016366612111292963], [u'included', 0.0016366612111292963], [u'appropriate', 0.0016366612111292963], [u'right', 0.0032733224222585926], [u'directly', 0.0016366612111292963], [u'1st', 0.0016366612111292963], [u'carry', 0.0016366612111292963], [u'corporations', 0.0016366612111292963], [u'establish', 0.006546644844517185], [u'relating', 0.0016366612111292963], [u'prepare', 0.0016366612111292963], [u'conyers', 0.0016366612111292963], [u'114th', 0.0032733224222585926], [u'detailing', 0.0016366612111292963], [u'name', 0.0016366612111292963], [u'agreements', 0.0016366612111292963], [u'taken', 0.0016366612111292963], [u'enforcement', 0.0032733224222585926], [u'initiated', 0.004909983633387889], [u'company', 0.008183306055646482], [u'acquire', 0.0032733224222585926], [u'site', 0.0032733224222585926], [u'corporate-related', 0.0016366612111292963], [u'case', 0.0016366612111292963], [u'include', 0.0016366612111292963], [u'publicly', 0.0016366612111292963], [u'accordance', 0.0016366612111292963], [u'administrative', 0.008183306055646482], [u'governments', 0.0032733224222585926], [u'bill', 0.0032733224222585926], [u'determined', 0.0032733224222585926], [u'limit', 0.0016366612111292963], [u'fines', 0.004909983633387889], [u'following', 0.0016366612111292963], [u'revenues', 0.0016366612111292963], [u'cited', 0.0016366612111292963], [u'purposes', 0.004909983633387889], [u'general', 0.014729950900163666], [u'states', 0.0032733224222585926], [u'manner', 0.0032733224222585926], [u'information', 0.006546644844517185], [u'united', 0.0032733224222585926], [u'form', 0.0016366612111292963], [u'agencies.', 0.0016366612111292963], [u'corporation', 0.004909983633387889], [u'agency', 0.008183306055646482], [u'mr.', 0.0016366612111292963], [u'potential', 0.0032733224222585926], [u'speaker', 0.0016366612111292963], [u'details', 0.0032733224222585926], [u'department', 0.006546644844517185], [u'convictions', 0.0016366612111292963], [u'regard', 0.0016366612111292963], [u'description', 0.0016366612111292963], [u'congress', 0.006546644844517185], [u'shall', 0.01309328968903437], [u'may', 0.004909983633387889], [u'reporting', 0.0016366612111292963], [u'update', 0.0016366612111292963], [u'collection', 0.0016366612111292963], [u'brief', 0.0016366612111292963], [u'involving', 0.0032733224222585926], [u'nothing', 0.0016366612111292963], [u'proceeding', 0.0032733224222585926], [u'america', 0.0016366612111292963], [u'data', 0.006546644844517185], [u'prescribed', 0.0032733224222585926], [u'annum', 0.0016366612111292963], [u'short', 0.0016366612111292963], [u'guidelines.', 0.0016366612111292963], [u'database', 0.01309328968903437], [u'well', 0.0016366612111292963], [u'proceedings', 0.004909983633387889], [u'maintain', 0.0032733224222585926], [u'ultimate', 0.0032733224222585926], [u'subsequently', 0.0016366612111292963], [u'corporate', 0.009819967266775777], [u'charged', 0.0032733224222585926]]\n"
       ]
      }
     ],
     "prompt_number": 72
    },
    {
     "cell_type": "code",
     "collapsed": false,
     "input": [
      "for entry in data.keys():\n",
      "    text = data[entry]['text']\n",
      "    word_count = data[entry]['word_count']\n",
      "    frequency = data[entry]['frequency']\n",
      "    \n",
      "    freq = []\n",
      "    for k, v in frequency.items():\n",
      "        v_normalized = float(v) / word_count\n",
      "        item = [k, v_normalized]\n",
      "        freq.append(item)\n",
      "    data[entry]['frequency'] = freq"
     ],
     "language": "python",
     "metadata": {},
     "outputs": [],
     "prompt_number": 73
    },
    {
     "cell_type": "code",
     "collapsed": false,
     "input": [
      "print data['hr101']['frequency']"
     ],
     "language": "python",
     "metadata": {},
     "outputs": [
      {
       "output_type": "stream",
       "stream": "stdout",
       "text": [
        "[[u'code', 0.004105571847507331], [u'petition.', 0.0002932551319648094], [u'lack', 0.0002932551319648094], [u'results', 0.0002932551319648094], [u'computation', 0.0002932551319648094], [u'assembled', 0.0002932551319648094], [u'consider', 0.0002932551319648094], [u'whose', 0.0005865102639296188], [u'eligible', 0.0002932551319648094], [u'charge', 0.001466275659824047], [u'trustees', 0.0002932551319648094], [u'include', 0.0005865102639296188], [u'promulgated', 0.0002932551319648094], [u'premium', 0.0005865102639296188], [u'risk', 0.0002932551319648094], [u'end', 0.004398826979472141], [u'difference', 0.001466275659824047], [u'condition', 0.0002932551319648094], [u'presented', 0.0005865102639296188], [u'permits', 0.0002932551319648094], [u'applicable', 0.002932551319648094], [u'prevent', 0.0002932551319648094], [u'periodicity', 0.0002932551319648094], [u'construed', 0.0002932551319648094], [u'consistent', 0.0002932551319648094], [u'guidelines', 0.0008797653958944282], [u'disciplined', 0.0002932551319648094], [u'rate', 0.0017595307917888563], [u'cost', 0.001466275659824047], [u'notwithstanding', 0.0017595307917888563], [u'subordinate', 0.0002932551319648094], [u'implemented', 0.0005865102639296188], [u'reconciliation', 0.0002932551319648094], [u'section', 0.00967741935483871], [u'43a', 0.0002932551319648094], [u'current', 0.0002932551319648094], [u'printing', 0.0002932551319648094], [u'net', 0.0002932551319648094], [u'ground', 0.0002932551319648094], [u'public', 0.0002932551319648094], [u'general.', 0.0002932551319648094], [u'deemed', 0.0002932551319648094], [u'lee', 0.0002932551319648094], [u'eligibility', 0.0002932551319648094], [u'modify', 0.0008797653958944282], [u'combating', 0.0002932551319648094], [u'poverty', 0.0002932551319648094], [u'table', 0.0002932551319648094], [u'appears', 0.0002932551319648094], [u'comptroller', 0.0005865102639296188], [u'technical', 0.0005865102639296188], [u'involved', 0.0002932551319648094], [u'study', 0.0008797653958944282], [u'prior', 0.0002932551319648094], [u'amount', 0.006744868035190616], [u'periodic', 0.0002932551319648094], [u'resulting', 0.0002932551319648094], [u'published', 0.0002932551319648094], [u'changes', 0.0005865102639296188], [u'adjustable', 0.0002932551319648094], [u'regardless', 0.0002932551319648094], [u'debtor.', 0.0002932551319648094], [u'family', 0.0005865102639296188], [u'lending', 0.0005865102639296188], [u'modifying', 0.0005865102639296188], [u'1st', 0.0005865102639296188], [u'apply', 0.0011730205278592375], [u'total', 0.0002932551319648094], [u'market', 0.0002932551319648094], [u'standing', 0.0002932551319648094], [u'fee', 0.001466275659824047], [u'would', 0.001466275659824047], [u'positive', 0.0002932551319648094], [u'contains', 0.0002932551319648094], [u'negative', 0.0002932551319648094], [u'examination', 0.0002932551319648094], [u'strike', 0.0002932551319648094], [u'comparison', 0.0002932551319648094], [u'commenced', 0.0011730205278592375], [u'debtors', 0.0002932551319648094], [u'cases', 0.001466275659824047], [u'behalf', 0.001466275659824047], [u'states', 0.005278592375366569], [u'account', 0.0005865102639296188], [u'rights', 0.0011730205278592375], [u'originally', 0.001466275659824047], [u'modified', 0.001466275659824047], [u'ms.', 0.0002932551319648094], [u'remain', 0.0002932551319648094], [u'paragraph', 0.008504398826979473], [u'hope', 0.0002932551319648094], [u'following', 0.0032258064516129032], [u'closing', 0.0002932551319648094], [u'appraisal', 0.0002932551319648094], [u'claim', 0.012903225806451613], [u'prohibiting', 0.0005865102639296188], [u'estate', 0.0005865102639296188], [u'give', 0.0002932551319648094], [u'cited', 0.0002932551319648094], [u'purposes', 0.001466275659824047], [u'impair', 0.0002932551319648094], [u'confirmation', 0.0002932551319648094], [u'council', 0.0002932551319648094], [u'allowed', 0.0026392961876832845], [u'occur', 0.0002932551319648094], [u'united', 0.005278592375366569], [u'requirements', 0.0005865102639296188], [u'provide', 0.0005865102639296188], [u'secured', 0.007331378299120235], [u'`qualified', 0.0002932551319648094], [u'restructured', 0.001466275659824047], [u'rise', 0.0002932551319648094], [u'prepayment', 0.0002932551319648094], [u'may', 0.0026392961876832845], [u'earlier', 0.0002932551319648094], [u'hazard', 0.0002932551319648094], [u'4th', 0.0002932551319648094], [u'date', 0.007331378299120235], [u'court', 0.0032258064516129032], [u'appealed', 0.0002932551319648094], [u'law', 0.0005865102639296188], [u'types', 0.0002932551319648094], [u'short', 0.0002932551319648094], [u'attempt', 0.0002932551319648094], [u'effective', 0.0026392961876832845], [u'whenever', 0.0005865102639296188], [u'homeowners', 0.0008797653958944282], [u'subsequently', 0.0002932551319648094], [u'order', 0.0020527859237536657], [u'subsections', 0.0002932551319648094], [u'office', 0.0005865102639296188], [u'find', 0.0002932551319648094], [u'satisfied', 0.0002932551319648094], [u'years', 0.0005865102639296188], [u'stability', 0.0005865102639296188], [u'scott', 0.0002932551319648094], [u'committee', 0.0008797653958944282], [u'satisfies', 0.0002932551319648094], [u'farmer', 0.0002932551319648094], [u'subparagraph', 0.0005865102639296188], [u'pending', 0.0008797653958944282], [u'good', 0.0008797653958944282], [u'greater', 0.0002932551319648094], [u'lien', 0.0002932551319648094], [u'qualified', 0.0005865102639296188], [u'effects', 0.0002932551319648094], [u'association', 0.0002932551319648094], [u'enacted', 0.0002932551319648094], [u'term', 0.0011730205278592375], [u'january', 0.0002932551319648094], [u'truth', 0.0005865102639296188], [u'bills', 0.0002932551319648094], [u'referred', 0.0002932551319648094], [u'financial', 0.0005865102639296188], [u'proposing', 0.0002932551319648094], [u'infeasible.', 0.0002932551319648094], [u'house', 0.0011730205278592375], [u'receipt', 0.0002932551319648094], [u'reduce', 0.0002932551319648094], [u'180-day', 0.0002932551319648094], [u'constitute', 0.0002932551319648094], [u'30-year', 0.0002932551319648094], [u'year', 0.0020527859237536657], [u'substantially', 0.0002932551319648094], [u'operation', 0.0002932551319648094], [u'insurance', 0.0005865102639296188], [u'special', 0.0002932551319648094], [u'jackson', 0.0002932551319648094], [u'receiving', 0.0005865102639296188], [u'issue', 0.0002932551319648094], [u'occurs', 0.0002932551319648094], [u'appealable', 0.0002932551319648094], [u'certifies', 0.0005865102639296188], [u'u.s.', 0.0002932551319648094], [u'liable', 0.0002932551319648094], [u'difficulty', 0.0002932551319648094], [u'beginning', 0.001466275659824047], [u'definition', 0.0002932551319648094], [u'determining', 0.0005865102639296188], [u'days', 0.0008797653958944282], [u'unpaid', 0.0017595307917888563], [u'place', 0.0002932551319648094], [u'retain', 0.0002932551319648094], [u'frequent', 0.0002932551319648094], [u'first', 0.0002932551319648094], [u'render', 0.0002932551319648094], [u'striking', 0.002346041055718475], [u'clause', 0.0005865102639296188], [u'thereafter', 0.0002932551319648094], [u'accruing', 0.0002932551319648094], [u'number', 0.001466275659824047], [u'improvements', 0.001466275659824047], [u'submit', 0.0005865102639296188], [u'directly', 0.0002932551319648094], [u'fees', 0.002346041055718475], [u'carry', 0.0002932551319648094], [u'size', 0.0002932551319648094], [u'management', 0.0002932551319648094], [u'exists', 0.0002932551319648094], [u'5th', 0.0002932551319648094], [u'rates', 0.0002932551319648094], [u'statement', 0.0002932551319648094], [u'percentage', 0.0005865102639296188], [u'gives', 0.0002932551319648094], [u'holder', 0.005865102639296188], [u'commence', 0.0002932551319648094], [u'obama', 0.0005865102639296188], [u'kind', 0.0002932551319648094], [u'determines', 0.0002932551319648094], [u'johnson', 0.0002932551319648094], [u'accordance', 0.0020527859237536657], [u'matter', 0.0002932551319648094], [u'determined', 0.003812316715542522], [u'providing', 0.0005865102639296188], [u'collecting', 0.001466275659824047], [u'outstanding', 0.0005865102639296188], [u'cohen', 0.0002932551319648094], [u'rent', 0.0002932551319648094], [u'need', 0.0002932551319648094], [u'sells', 0.0002932551319648094], [u'modifies', 0.0005865102639296188], [u'reasonable', 0.0005865102639296188], [u'able', 0.0002932551319648094], [u'conforming', 0.0011730205278592375], [u'mr.', 0.001466275659824047], [u'costs', 0.0020527859237536657], [u'take', 0.0002932551319648094], [u'enactment', 0.0017595307917888563], [u'effectiveness', 0.0002932551319648094], [u'unsecured', 0.0002932551319648094], [u'unless', 0.0008797653958944282], [u'shall', 0.004398826979472141], [u'price', 0.001466275659824047], [u'affordability', 0.0005865102639296188], [u'paid', 0.0008797653958944282], [u'regular', 0.0002932551319648094], [u'plan', 0.005865102639296188], [u'claims', 0.0005865102639296188], [u'nothing', 0.0002932551319648094], [u'america', 0.0002932551319648094], [u'payment', 0.0020527859237536657], [u'amortize', 0.0002932551319648094], [u'considered', 0.0005865102639296188], [u'average', 0.0002932551319648094], [u'later', 0.001466275659824047], [u'request', 0.0002932551319648094], [u'sale', 0.0020527859237536657], [u'sunset', 0.0002932551319648094], [u'senior', 0.0005865102639296188], [u'filing', 0.001466275659824047], [u'contacted', 0.0002932551319648094], [u'certification', 0.0002932551319648094], [u'violation', 0.0005865102639296188], [u'pursuant', 0.0002932551319648094], [u'homeowner', 0.0005865102639296188], [u'session', 0.0002932551319648094], [u'agrees', 0.0002932551319648094], [u'principal', 0.005865102639296188], [u'completion', 0.0002932551319648094], [u'judges', 0.0005865102639296188], [u'based', 0.0002932551319648094], [u'foreclosure', 0.002346041055718475], [u'securing', 0.0002932551319648094], [u'debts', 0.0026392961876832845], [u'outside', 0.0002932551319648094], [u'penalty', 0.0002932551319648094], [u'subsection', 0.007624633431085044], [u'congressional', 0.0002932551319648094], [u'means', 0.0002932551319648094], [u'nonbankruptcy', 0.0002932551319648094], [u'remedy', 0.0002932551319648094], [u'fraud', 0.0002932551319648094], [u'report', 0.0008797653958944282], [u'entity', 0.001466275659824047], [u'prime', 0.0005865102639296188], [u'regarding', 0.0005865102639296188], [u'appeal', 0.0005865102639296188], [u'taxes', 0.0002932551319648094], [u'default', 0.0002932551319648094], [u'contain', 0.0005865102639296188], [u'including', 0.0011730205278592375], [u'fixed', 0.0005865102639296188], [u'fair', 0.0002932551319648094], [u'individual', 0.0005865102639296188], [u'result', 0.0005865102639296188], [u'surrendered', 0.0002932551319648094], [u'subject', 0.0017595307917888563], [u'mortgage', 0.0008797653958944282], [u'federal', 0.0008797653958944282], [u'review', 0.0002932551319648094], [u'currently', 0.0002932551319648094], [u'representatives', 0.0008797653958944282], [u'written', 0.0002932551319648094], [u'future', 0.0005865102639296188], [u'closed', 0.0002932551319648094], [u'neither', 0.0002932551319648094], [u'conditions', 0.0002932551319648094], [u'date.', 0.0002932551319648094], [u'notice', 0.0011730205278592375], [u'terms', 0.0005865102639296188], [u'extend', 0.0002932551319648094], [u'originated', 0.0002932551319648094], [u'sold', 0.0017595307917888563], [u'extent', 0.0005865102639296188], [u'debt', 0.0011730205278592375], [u'received', 0.0005865102639296188], [u'residence', 0.0061583577712609975], [u'taking', 0.0005865102639296188], [u'annual', 0.0002932551319648094], [u'equal', 0.0002932551319648094], [u'receives', 0.0002932551319648094], [u'holders', 0.0002932551319648094], [u'finds', 0.0002932551319648094], [u'otherwise', 0.0005865102639296188], [u'redesignating', 0.0002932551319648094], [u'subtitle', 0.0026392961876832845], [u'loan', 0.005865102639296188], [u'period', 0.0035190615835777126], [u'respect', 0.002932551319648094], [u'conference', 0.0002932551319648094], [u'described', 0.0008797653958944282], [u'conyers', 0.0002932551319648094], [u'amendments.', 0.0002932551319648094], [u'convicted', 0.0002932551319648094], [u'reduction', 0.0011730205278592375], [u'interest', 0.0035190615835777126], [u'arises', 0.0002932551319648094], [u'corresponding', 0.0002932551319648094], [u'`average', 0.0002932551319648094], [u'30-day', 0.0008797653958944282], [u'administration.', 0.0002932551319648094], [u'offered', 0.0005865102639296188], [u'gao', 0.0002932551319648094], [u'determination', 0.0002932551319648094], [u'assessments', 0.0002932551319648094], [u'case', 0.0026392961876832845], [u'debtor', 0.012609970674486803], [u'georgia', 0.0002932551319648094], [u'survey', 0.0002932551319648094], [u'amend', 0.0005865102639296188], [u'judicial', 0.0002932551319648094], [u'bill', 0.0005865102639296188], [u'budget', 0.0005865102639296188], [u'value', 0.002346041055718475], [u'expiration', 0.0005865102639296188], [u'situation', 0.0002932551319648094], [u'property', 0.0011730205278592375], [u'scheduled', 0.0002932551319648094], [u'delaying', 0.0002932551319648094], [u'expenses', 0.0005865102639296188], [u'trustee', 0.0011730205278592375], [u'containing', 0.0005865102639296188], [u'claim.', 0.0002932551319648094], [u'credit', 0.0002932551319648094], [u'pay', 0.0011730205278592375], [u'make', 0.0008797653958944282], [u'administration', 0.0008797653958944282], [u'mcdermott', 0.0002932551319648094], [u'modification', 0.004398826979472141], [u'party', 0.0002932551319648094], [u'entitled', 0.0002932551319648094], [u'used', 0.0002932551319648094], [u'comprehensive', 0.0002932551319648094], [u'permit', 0.0002932551319648094], [u'effect', 0.0005865102639296188], [u'judiciary', 0.0008797653958944282], [u'creditor', 0.0002932551319648094], [u'purpose', 0.0005865102639296188], [u'aggregate', 0.0002932551319648094], [u'amortization', 0.0005865102639296188], [u'judgment', 0.0002932551319648094], [u'supersede', 0.0002932551319648094], [u'principal.', 0.0002932551319648094], [u'programs', 0.0002932551319648094], [u'charges', 0.0008797653958944282], [u'without', 0.0011730205278592375], [u'mortgages', 0.002932551319648094], [u'contact', 0.0002932551319648094], [u'relief', 0.0020527859237536657], [u'entry', 0.0002932551319648094], [u'allowance', 0.0002932551319648094], [u'arising', 0.0002932551319648094], [u'excessive', 0.0002932551319648094], [u'restructure', 0.0002932551319648094], [u'less', 0.0011730205278592375], [u'adjustments', 0.0002932551319648094], [u'obtain', 0.0002932551319648094], [u'actions', 0.0002932551319648094], [u'noncontingent', 0.0005865102639296188], [u'provision.', 0.0002932551319648094], [u'taken', 0.0002932551319648094], [u'adding', 0.0020527859237536657], [u'help', 0.0002932551319648094], [u'except', 0.0017595307917888563], [u'rescission', 0.0002932551319648094], [u'violations', 0.0002932551319648094], [u'remaining', 0.0002932551319648094], [u'real', 0.0005865102639296188], [u'march', 0.0005865102639296188], [u'amended', 0.002932551319648094], [u'provisions', 0.0002932551319648094], [u'government', 0.0002932551319648094], [u'rules', 0.0002932551319648094], [u'virginia', 0.0002932551319648094], [u'increases', 0.0002932551319648094], [u'schedules', 0.0002932551319648094], [u'filed.', 0.0002932551319648094], [u'occurring', 0.001466275659824047], [u'insert', 0.0002932551319648094], [u'necessary', 0.0002932551319648094], [u'reduces', 0.0002932551319648094], [u'serves', 0.0002932551319648094], [u'annually', 0.0005865102639296188], [u'collect', 0.0002932551319648094], [u'continue', 0.0002932551319648094], [u'payments', 0.00469208211143695], [u'fully', 0.0005865102639296188], [u'security', 0.0020527859237536657], [u'amortizing', 0.0002932551319648094], [u'reduced', 0.0026392961876832845], [u'amendment', 0.0002932551319648094], [u'exceed', 0.001466275659824047], [u'right', 0.0002932551319648094], [u'residence.', 0.0002932551319648094], [u'senate', 0.0005865102639296188], [u'authority', 0.001466275659824047], [u'specified', 0.0008797653958944282], [u'home', 0.0002932551319648094], [u'limitation.', 0.0002932551319648094], [u'provided', 0.002346041055718475], [u'contested', 0.0002932551319648094], [u'obtaining', 0.0002932551319648094], [u'confirm', 0.0002932551319648094], [u'h.r', 0.0002932551319648094], [u'discretion', 0.0002932551319648094], [u'inserting', 0.0035190615835777126], [u'repayment', 0.0005865102639296188], [u'agreement', 0.0008797653958944282], [u'restructuring', 0.0002932551319648094], [u'residences', 0.0005865102639296188], [u'permitted', 0.0002932551319648094], [u'chapter', 0.0032258064516129032], [u'faith', 0.0008797653958944282], [u'actual', 0.0002932551319648094], [u'extension', 0.0002932551319648094], [u'completing', 0.0002932551319648094], [u'months', 0.0002932551319648094], [u'monthly', 0.0002932551319648094], [u'plus', 0.0017595307917888563], [u'introduced', 0.0005865102639296188], [u'114th', 0.0005865102639296188], [u'formerly', 0.0002932551319648094], [u'submits', 0.0002932551319648094], [u'attorney', 0.0002932551319648094], [u'appropriate', 0.0005865102639296188], [u'determine', 0.0002932551319648094], [u'lawful', 0.0002932551319648094], [u'reducing', 0.0005865102639296188], [u'bankruptcy', 0.002346041055718475], [u'additional', 0.0002932551319648094], [u'renewal', 0.0002932551319648094], [u'housing', 0.0005865102639296188], [u'liquidated', 0.0005865102639296188], [u'foreseeable', 0.0002932551319648094], [u'consultation', 0.0002932551319648094], [u'resulted', 0.0002932551319648094], [u'files', 0.0002932551319648094], [u'revised', 0.0002932551319648094], [u'form', 0.0002932551319648094], [u'offer', 0.0005865102639296188], [u'attempted', 0.0002932551319648094], [u'failure', 0.0002932551319648094], [u'courts', 0.0005865102639296188], [u'filed', 0.0002932551319648094], [u'line', 0.0002932551319648094], [u'made', 0.0035190615835777126], [u'portions', 0.0002932551319648094], [u'refinancing', 0.0002932551319648094], [u'whether', 0.0017595307917888563], [u'official', 0.0002932551319648094], [u'maximum', 0.0005865102639296188], [u'limit', 0.0002932551319648094], [u'dues', 0.0002932551319648094], [u'semicolon', 0.0005865102639296188], [u'defined', 0.0002932551319648094], [u'certain', 0.0008797653958944282], [u'recommendation', 0.0005865102639296188], [u'sales', 0.001466275659824047], [u'general', 0.0005865102639296188], [u'enable', 0.0002932551319648094], [u'proceeds', 0.0005865102639296188], [u'amendments', 0.0035190615835777126], [u'percent', 0.0020527859237536657], [u'application', 0.0005865102639296188], [u'income', 0.001466275659824047], [u'stat', 0.0002932551319648094], [u'congress', 0.001466275659824047], [u'preceding', 0.0005865102639296188], [u'discharge', 0.0011730205278592375], [u'incurred', 0.0005865102639296188], [u'longer', 0.0005865102639296188], [u'omnibus', 0.0002932551319648094], [u'subclause', 0.0002932551319648094], [u'required', 0.0002932551319648094], [u'institutions', 0.0002932551319648094], [u'portion', 0.0002932551319648094], [u'overturned', 0.0002932551319648094], [u'requires', 0.0002932551319648094], [u'commencement', 0.0002932551319648094], [u'waiver', 0.0005865102639296188], [u'waives', 0.0002932551319648094]]\n"
       ]
      }
     ],
     "prompt_number": 77
    },
    {
     "cell_type": "code",
     "collapsed": false,
     "input": [],
     "language": "python",
     "metadata": {},
     "outputs": []
    },
    {
     "cell_type": "code",
     "collapsed": false,
     "input": [],
     "language": "python",
     "metadata": {},
     "outputs": []
    },
    {
     "cell_type": "code",
     "collapsed": false,
     "input": [
      "import math\n",
      "from collections import Counter"
     ],
     "language": "python",
     "metadata": {},
     "outputs": [],
     "prompt_number": 78
    },
    {
     "cell_type": "code",
     "collapsed": false,
     "input": [
      "def buildVector(iterable1, iterable2):\n",
      "    counter1 = Counter(iterable1)\n",
      "    counter2= Counter(iterable2)\n",
      "    all_items = set(counter1.keys()).union( set(counter2.keys()) )\n",
      "    vector1 = [counter1[k] for k in all_items]\n",
      "    vector2 = [counter2[k] for k in all_items]\n",
      "    return vector1, vector2\n",
      "\n",
      "def cosim(v1, v2):\n",
      "    dot_product = sum(n1 * n2 for n1,n2 in zip(v1, v2) )\n",
      "    magnitude1 = math.sqrt (sum(n ** 2 for n in v1))\n",
      "    magnitude2 = math.sqrt (sum(n ** 2 for n in v2))\n",
      "    return dot_product / (magnitude1 * magnitude2)"
     ],
     "language": "python",
     "metadata": {},
     "outputs": [],
     "prompt_number": 93
    },
    {
     "cell_type": "code",
     "collapsed": false,
     "input": [
      "text1 = data['hr101']['text'].split()\n",
      "len1 = len(text1)\n",
      "\n",
      "text2 = data['hr102']['text'].split()\n",
      "len2 = len(text2)\n",
      "\n",
      "print len1, len2"
     ],
     "language": "python",
     "metadata": {},
     "outputs": [
      {
       "output_type": "stream",
       "stream": "stdout",
       "text": [
        "3410 611\n"
       ]
      }
     ],
     "prompt_number": 85
    },
    {
     "cell_type": "code",
     "collapsed": false,
     "input": [
      "v1,v2= buildVector(text1, text2)"
     ],
     "language": "python",
     "metadata": {},
     "outputs": [
      {
       "output_type": "stream",
       "stream": "stdout",
       "text": [
        "Counter({u'the': 335, u'of': 214, u'such': 82, u'and': 78, u'a': 72, u'to': 64, u'in': 61, u'by': 59, u'under': 53, u'claim': 38, u'is': 37, u'as': 33, u'for': 32, u'on': 32, u'this': 30, u'that': 28, u'paragraph': 26, u'or': 26, u'secured': 25, u'date': 24, u'section': 23, u'amount': 22, u'after': 22, u'not': 22, u'debtor': 21, u'if': 21, u'with': 20, u'principal': 19, u'at': 19, u\"debtor's\": 18, u'United': 18, u'residence': 17, u'States': 17, u'title': 16, u'subsection': 16, u'loan': 16, u'shall': 15, u'payments': 15, u'be': 15, u'(1)': 15, u'holder': 13, u'determined': 13, u'modification': 13, u'any': 12, u'period': 12, u'inserting': 12, u'made': 12, u'end': 11, u'(2)': 11, u'than': 11, u'interest': 11, u'SEC.': 11, u'amendments': 11, u'plan': 10, u'respect': 10, u'allowed': 9, u'may': 9, u'Code,': 9, u'debts': 9, u'11,': 9, u'applicable': 8, u'court': 8, u'following:': 8, u'striking': 8, u'(3)': 8, u'mortgages': 8, u'been': 8, u'value': 8, u'reduced': 8, u'Section': 8, u'chapter': 8, u'provided': 8, u'effective': 7, u'order': 7, u'before': 7, u'year': 7, u'accordance': 7, u'payment': 7, u'sale': 7, u'adding': 7, u'case': 7, u'subtitle': 7, u'amended--': 7, u'security': 7, u'percent': 7, u'Act': 7, u'rate': 6, u'enactment': 6, u'foreclosure': 6, u'``(A)': 6, u'unpaid': 6, u'11': 6, u'``(B)': 6, u'whether': 6, u'subject': 6, u'between': 6, u'sold': 6, u'relief': 6, u'had': 6, u'has': 6, u'all': 5, u'cases': 5, u'behalf': 5, u'difference': 5, u'would': 5, u'originally': 5, u'modified': 5, u'Mr.': 5, u'plan,': 5, u'restructured': 5, u'subsection;': 5, u'improvements),': 5, u'(plus': 5, u'beginning': 5, u'number': 5, u'fee,': 5, u'Code': 5, u'costs': 5, u'price': 5, u'later': 5, u'filing': 5, u'entity': 5, u'are': 5, u'collecting': 5, u'cost,': 5, u'exceed': 5, u'occurring': 5, u'(b)(11)': 5, u'(or': 5, u'bankruptcy': 5, u'but': 5, u'sales': 5, u'``(i)': 5, u'other': 5, u'rights': 4, u'notwithstanding': 4, u'``(ii)': 4, u'term': 4, u'fees': 4, u'13': 4, u'were': 4, u'which': 4, u'of--': 4, u'end,': 4, u'holder)': 4, u'notice': 4, u'(b)': 4, u'claim,': 4, u'pay': 4, u'without': 4, u'less': 4, u'OF': 4, u'authority': 4, u'was': 4, u'income': 4, u'charge': 3, u'should': 3, u'except': 3, u'101': 3, u'debtor,': 3, u'apply': 3, u'from': 3, u'1322(b)(11)': 3, u'commenced': 3, u'following': 3, u'Federal': 3, u'days': 3, u'pending': 3, u'good': 3, u'or,': 3, u'(a)': 3, u'(A)': 3, u'(and': 3, u\"``and''\": 3, u'conforming': 3, u'mortgage': 3, u'debt': 3, u'``(1)': 3, u'(B)': 3, u'described': 3, u'(9)': 3, u'reduction': 3, u'30-day': 3, u'property': 3, u'make': 3, u'``(5)': 3, u'charges': 3, u'In': 3, u'Judiciary': 3, u'amended': 3, u'residence,': 3, u'specified': 3, u'Committee': 3, u'court,': 3, u'``(2)': 3, u'House': 3, u'no': 3, u'(2),': 2, u'whose': 2, u'does': 2, u'include': 2, u'presented': 2, u'amend': 2, u'Bankruptcy': 2, u'guidelines': 2, u'implemented': 2, u'applicable,': 2, u'modifies': 2, u'30': 2, u'changes': 2, u'modifying': 2, u'1st': 2, u'114th': 2, u'faith': 2, u'``(3)': 2, u'account': 2, u'estate': 2, u'purposes': 2, u'requirements': 2, u'provide': 2, u'trustee': 2, u'A': 2, u'semicolon,': 2, u'whenever': 2, u'Act.': 2, u'Housing': 2, u'years': 2, u'March': 2, u'subparagraph': 2, u\"holder's\": 2, u'qualified': 2, u'fully': 2, u'repayment': 2, u'Representatives': 2, u'1322(b)(11),': 2, u'Affordability': 2, u'receiving': 2, u'that--': 2, u'certifies': 2, u'determining': 2, u'(8)': 2, u'Homeowner': 2, u'plan;': 2, u'percentage': 2, u'FEES.': 2, u\"Administration's\": 2, u'providing': 2, u'``(4)': 2, u'costs,': 2, u'unless': 2, u'who': 2, u'paid': 2, u'fees,': 2, u'The': 2, u'considered': 2, u'senior': 2, u'violation': 2, u'chapter,': 2, u'Act,': 2, u'report': 2, u'during': 2, u'THE': 2, u'regarding': 2, u'contain': 2, u'including': 2, u'where': 2, u'individual': 2, u'subtitle,': 2, u'terms': 2, u'extent': 2, u'received': 2, u'taking': 2, u'Stability': 2, u'otherwise': 2, u'``(11)': 2, u'Plan': 2, u'offered': 2, u'appropriate):': 2, u'technical': 2, u'expiration': 2, u'it': 2, u'2009,': 2, u'claim;': 2, u'IN': 2, u'amortization': 2, u'subsection,': 2, u\"``or''\": 2, u'real': 2, u'liquidated,': 2, u'(b),': 2, u'(10)': 2, u'Notwithstanding': 2, u'loan,': 2, u'``(C)': 2, u'noncontingent,': 2, u'paragraph,': 2, u'agreement': 2, u'into': 2, u'(or,': 2, u'residences,': 2, u'submit': 2, u'Obama': 2, u'courts': 2, u'(C)': 2, u'maximum': 2, u'result': 2, u'certain': 2, u'recommendation': 2, u'To': 2, u'containing--': 2, u'``(10)': 2, u'TO': 2, u'4,': 2, u\"1322(b)(11))''\": 2, u'Comptroller': 2, u'preceding': 2, u'discharge': 2, u'longer': 2, u'purposes.': 2, u'waiver': 2, u'default': 1, u'consider': 1, u'Title': 1, u'out': 1, u'Conforming': 1, u'1321': 1, u'computation': 1, u'obtaining': 1, u'1328(a)': 1, u'contacted': 1, u'eligible': 1, u'(for': 1, u\"``(i)'',\": 1, u'Not': 1, u'``(I)': 1, u'promulgated': 1, u'premium': 1, u'Senate,': 1, u'``(43A)': 1, u'(5)': 1, u'506(a)(1);': 1, u'(ii),': 1, u'condition': 1, u\"``and'',\": 1, u'HOUSE': 1, u'expenses,': 1, u'amount.)': 1, u'CLAIMS': 1, u'prevent': 1, u'periodicity': 1, u\"``paid'',\": 1, u'construed': 1, u'consistent': 1, u'disciplined': 1, u'Farmer': 1, u'subordinate': 1, u'what': 1, u'unless--': 1, u'(5)(B)(i),': 1, u'ELIGIBILITY': 1, u'find': 1, u'current': 1, u'Now': 1, u'Judicial': 1, u'``(d)': 1, u'(annually': 1, u'net': 1, u'America': 1, u'3d': 1, u'STANDING': 1, u'deemed': 1, u'10.': 1, u'title,': 1, u'Budget': 1, u'Amendments.--': 1, u'109': 1, u'poverty': 1, u'``(D)': 1, u'Stat.': 1, u'rent,': 1, u'table': 1, u'commenced;': 1, u'Georgia,': 1, u'involved': 1, u'study': 1, u'prior': 1, u'Session': 1, u'resulting': 1, u'3.': 1, u'published': 1, u'(I)': 1, u'adjustable': 1, u'regardless': 1, u'case,': 1, u'family': 1, u'ground': 1, u'DATE;': 1, u'case;': 1, u'total': 1, u'market': 1, u'(b)--': 1, u'study,': 1, u'faith,': 1, u'thereafter,': 1, u'positive': 1, u'negative': 1, u'permitted': 1, u'incurred;': 1, u'program': 1, u'strike': 1, u'until': 1, u'more': 1, u'residence)--': 1, u'REPRESENTATIVES': 1, u'before--': 1, u'debtors': 1, u'90': 1, u'Lee,': 1, u'Introduced': 1, u'Congress]': 1, u'and,': 1, u'claims': 1, u'Financial': 1, u'Family': 1, u'permits': 1, u'remain': 1, u'can': 1, u'closing': 1, u'appraisal': 1, u\"infeasible.''.\": 1, u'Conference': 1, u'CONFIRMATION': 1, u'give': 1, u'cited': 1, u'occur': 1, u'(D)': 1, u\"(d)'',\": 1, u'`qualified': 1, u\"``(5)'',\": 1, u'future,': 1, u'Hope': 1, u'plus': 1, u'purpose;': 1, u'hazard': 1, u'proceeds--': 1, u'4th': 1, u'12.': 1, u'types': 1, u'attempt': 1, u'homeowners': 1, u'COMBATING': 1, u'subsequently': 1, u'first': 1, u'Reconciliation': 1, u'effect.': 1, u'satisfied': 1, u'1': 1, u'bankruptcy,': 1, u'521(a)': 1, u'through': 1, u'ACT.': 1, u'satisfies': 1, u'General,': 1, u'its': 1, u'Management': 1, u'render': 1, u'bill;': 1, u'2015': 1, u'2.': 1, u'``Home': 1, u'Budget,': 1, u'outside': 1, u'then': 1, u'greater': 1, u'lien': 1, u'program,': 1, u'effects': 1, u'determines': 1, u'R.': 1, u'association': 1, u'enacted': 1, u'Amendment': 1, u'(b)(11)(A)': 1, u'(IH)]': 1, u'entitled': 1, u'apply.': 1, u'referred': 1, u'506(a)(1)': 1, u'financial': 1, u'proposing': 1, u'receipt': 1, u'reduce': 1, u'180-day': 1, u'constitute': 1, u'carry': 1, u\"subsection.'',\": 1, u'substantially': 1, u'operation': 1, u'insurance': 1, u'special': 1, u'prepayment': 1, u'creditor': 1, u'issue': 1, u'occurs': 1, u'``For': 1, u'30-year': 1, u'earlier': 1, u'clause.': 1, u'situation,': 1, u'This': 1, u'liable': 1, u'effect': 1, u'difficulty': 1, u'nor': 1, u'additional': 1, u\"residence.''.\": 1, u'reasonable': 1, u'1328(b))': 1, u'appealed,': 1, u'place': 1, u'scheduled': 1, u'retain': 1, u'(as': 1, u'frequent': 1, u'permit': 1, u'size': 1, u'(b)(11),': 1, u'(b)(11).': 1, u'28.--Section': 1, u'clause': 1, u'SECTION': 1, u'accruing': 1, u'(b)(11);': 1, u'directly': 1, u'interest,': 1, u'exists': 1, u'Congress': 1, u'5th': 1, u'their': 1, u'2': 1, u'Trustees,': 1, u'statement': 1, u'risk;': 1, u'18': 1, u'gives': 1, u'on,': 1, u'Congress,': 1, u'States.': 1, u\"or'',\": 1, u\"(b)''\": 1, u'discharge,': 1, u'commence': 1, u'10': 1, u'15': 1, u'property,': 1, u'LENDING': 1, u'(Lack': 1, u'Senate': 1, u'attorney': 1, u'1-': 1, u'loan--': 1, u'1.': 1, u'(b)(11)(A),': 1, u'EFFECTIVE': 1, u'outstanding': 1, u'CONGRESS.': 1, u'need': 1, u'ARISING': 1, u'law,': 1, u\"1322(b)(11),''\": 1, u'foreclosure,': 1, u'able': 1, u'TITLE.': 1, u'contact': 1, u'take': 1, u'attempted': 1, u'VIOLATIONS': 1, u'Provision.--The': 1, u'With': 1, u'(e)': 1, u'unsecured': 1, u'7.': 1, u'regular': 1, u'``or,': 1, u'70': 1, u'nothing': 1, u'necessary)': 1, u'comparison': 1, u'amortize': 1, u'FROM': 1, u'failure': 1, u'Lending': 1, u'request': 1, u'sunset': 1, u'``;': 1, u'1981)': 1, u'CONGRESS': 1, u'certification': 1, u'pursuant': 1, u'302(d)(3)': 1, u\"1322(b)(11)''\": 1, u'agrees': 1, u'completion': 1, u'judges': 1, u'based': 1, u'securing': 1, u\"debtor.''.\": 1, u'appeal,': 1, u'penalty': 1, u'only': 1, u'DISCHARGE.': 1, u'refinancing': 1, u'Prime': 1, u'his': 1, u'11.': 1, u'chapter;': 1, u'means': 1, u'kind': 1, u\"principal.''.\": 1, u'nonbankruptcy': 1, u'remedy': 1, u'fraud': 1, u'1322(b)(11)(C)(ii),': 1, u'Institutions': 1, u'362(a);': 1, u'prime': 1, u'appeal': 1, u'DEFINITION.': 1, u'Help': 1, u'debt.': 1, u'fixed': 1, u'SHORT': 1, u'Jackson': 1, u'TRUTH': 1, u'fair': 1, u'MODIFY': 1, u'surrendered': 1, u'insurance,': 1, u\"``1322(b)(5)''.\": 1, u'FOR': 1, u'matter': 1, u'review': 1, u'currently': 1, u'AMENDMENTS.': 1, u'Omnibus': 1, u'written': 1, u'future': 1, u'closed': 1, u'neither': 1, u'conditions': 1, u'U.S.': 1, u'``subsections': 1, u'to,': 1, u'Johnson': 1, u'originated': 1, u'modify': 1, u'PROHIBITING': 1, u'contested,': 1, u'annual': 1, u'equal': 1, u'``subsection': 1, u'receives': 1, u'holders': 1, u'finds': 1, u'redesignating': 1, u'periodic': 1, u'6,': 1, u'6.': 1, u'(including': 1, u'60': 1, u'confirm': 1, u'assembled,': 1, u'100': 1, u'(12),': 1, u'Cohen,': 1, u'monthly': 1, u'appears,': 1, u'convicted': 1, u'whom': 1, u'Date.--Except': 1, u'TRUSTEE': 1, u'1322(c)': 1, u'corresponding': 1, u'determination': 1, u'general.--Except': 1, u'``(h)': 1, u'survey': 1, u'debtor--': 1, u'(43)': 1, u'CERTAIN': 1, u'BILL': 1, u'General': 1, u'while': 1, u'income,': 1, u'agreement;': 1, u'outstanding)': 1, u'holder);': 1, u'99-554;': 1, u'delaying': 1, u'expenses': 1, u'PLAN.': 1, u'sells': 1, u'Printing': 1, u'charge;': 1, u'RELIEF.': 1, u'because': 1, u'Administration,': 1, u'credit': 1, u'GAO': 1, u\"2015''.\": 1, u'party': 1, u'modify,': 1, u'used': 1, u'``(other': 1, u'``(II)': 1, u'comprehensive': 1, u'(4)': 1, u\"Administration.''.\": 1, u'mortgages,': 1, u'purpose': 1, u'aggregate': 1, u\"``payments''\": 1, u'``except': 1, u'principal,': 1, u'supersede': 1, u'programs': 1, u'Judges,': 1, u'entry': 1, u'allowance': 1, u'1328(b));': 1, u'restructure': 1, u'Conyers': 1, u'adjustments': 1, u'obtain': 1, u'actions': 1, u'Virginia)': 1, u'(F)': 1, u'subsection.': 1, u'Reduction': 1, u'586(e)(1)(B)(i)': 1, u'Examination': 1, u'40': 1, u'assessments)': 1, u'(h)': 1, u'taken': 1, u'Be': 1, u'(Public': 1, u'28,': 1, u'Offer': 1, u\"Rates--Fixed',\": 1, u'modification;': 1, u'taxes,': 1, u'rescission': 1, u'4': 1, u\"modification'\": 1, u'remaining': 1, u'(1),': 1, u'(b)(11)--': 1, u'provisions': 1, u'3121)': 1, u'rules': 1, u'enable': 1, u'results': 1, u'prohibiting,': 1, u'increases': 1, u'reasonable,': 1, u'Truth': 1, u'schedules': 1, u'judgment,': 1, u'Bills': 1, u'filed,': 1, u'insert': 1, u'effectiveness': 1, u'reduces': 1, u'50': 1, u'AUTHORITY': 1, u'annually': 1, u'collect': 1, u'continue': 1, u'impair,': 1, u'Office]': 1, u'amortizing': 1, u'1322': 1, u'1323': 1, u'dues,': 1, u'1325': 1, u'foreseeable': 1, u'1329': 1, u'Application': 1, u'loan;': 1, u'serves': 1, u'REPORT': 1, u\"filed.''.\": 1, u'[H.R.': 1, u'before,': 1, u'2d': 1, u'Government': 1, u'extension,': 1, u'673(2)': 1, u'5.': 1, u'discretion': 1, u'Council': 1, u'APPLICATION': 1, u'restructuring': 1, u\"(II)''\": 1, u'Homeowners,': 1, u'``(iii)': 1, u'appealable': 1, u'actual': 1, u'Foreclosure': 1, u'himself,': 1, u'completing': 1, u'months': 1, u'trustee,': 1, u'(5)--': 1, u'(11)': 1, u'H.': 1, u'introduced': 1, u'contains': 1, u'<all>': 1, u'STUDY.': 1, u'formerly': 1, u'submits': 1, u\"and'',\": 1, u'if,': 1, u'right': 1, u'determine': 1, u'lawful': 1, u'8.': 1, u'reducing': 1, u'(reduced': 1, u'1986': 1, u'her': 1, u'[Congressional': 1, u'MORTGAGES.': 1, u'consultation': 1, u'[From': 1, u'resulted': 1, u'Limitation.--Paragraph': 1, u'files': 1, u'revised': 1, u'form': 1, u'offer': 1, u'January': 1, u\"claim.''.\": 1, u'McDermott,': 1, u'Ms.': 1, u'guidelines,': 1, u'line': 1, u'extend': 1, u'portions': 1, u'`Average': 1, u'Office': 1, u\"petition.''.\": 1, u'official': 1, u'``(g)': 1, u'limit': 1, u'charge--': 1, u'502(b)': 1, u'average': 1, u'150': 1, u'524(a)(2)': 1, u'defined': 1, u'(E)': 1, u'an': 1, u'arises': 1, u'1322(b)(11)(D)': 1, u'renewal,': 1, u'proceeds': 1, u'(B)(iii)(I)': 1, u'EXCESSIVE': 1, u'1325(a)': 1, u'9.': 1, u'premium,': 1, u'4.': 1, u'Law': 1, u'Effective': 1, u'``(including': 1, u\"homeowners'\": 1, u'in,': 1, u'rise': 1, u'reducing,': 1, u'incurred': 1, u'subclause': 1, u'purposes,': 1, u'required': 1, u'portion': 1, u'Scott': 1, u'overturned': 1, u'requires': 1, u'commencement': 1, u'waives': 1})\n",
        "Counter({u'the': 39, u'of': 25, u'and': 23, u'or': 18, u'in': 14, u'a': 13, u'to': 11, u'by': 8, u'shall': 8, u'Attorney': 8, u'for': 7, u'any': 7, u'General': 6, u'official': 6, u'an': 6, u'SEC.': 6, u'criminal': 5, u'Government': 5, u'as': 5, u'Federal': 5, u'corporate': 5, u'all': 4, u'charge': 4, u'civil,': 4, u'each': 4, u'be': 4, u'company': 4, u'establish': 4, u'administrative,': 4, u'with': 4, u'agency': 4, u'department': 4, u'The': 4, u'Act': 3, u'fines': 3, u'regarding': 3, u'this': 3, u'concluded': 3, u'capacity': 3, u'acting': 3, u'against': 3, u'action': 3, u'judicial': 3, u'civil': 3, u'initiated': 3, u'corporation': 3, u'information': 3, u'that': 3, u'other': 3, u'may': 3, u'database': 3, u'proceedings': 3, u'United': 2, u'jurisdiction': 2, u'actions': 2, u'bring': 2, u'including': 2, u'proceeding,': 2, u'crime': 2, u'misdemeanor': 2, u'charge,': 2, u'report': 2, u'OF': 2, u'where': 2, u'maintain': 2, u'cause': 2, u'parent': 2, u'This': 2, u'felony': 2, u'102': 2, u'on': 2, u'potential': 2, u'State': 2, u'Committee': 2, u'within': 2, u'right': 2, u'Congress': 2, u'114th': 2, u'$1,000': 2, u'enforcement': 2, u'House': 2, u'governments': 2, u'purposes.': 2, u'determined': 2, u'To': 2, u'manner': 2, u'database,': 2, u'charged,': 2, u'IN': 2, u'involving': 2, u'prescribed': 2, u'States': 2, u'action.': 2, u'ultimate': 2, u'Web': 1, u'CONGRESS': 1, u'Conyers': 1, u'consent': 1, u'over': 1, u'Crime': 1, u'committee': 1, u'Under': 1, u'Oversight': 1, u'R.': 1, u'General.': 1, u'site': 1, u'Be': 1, u\"agency's\": 1, u'number': 1, u'28,': 1, u'title': 1, u'concerned': 1, u'SITE.': 1, u'bill;': 1, u'under': 1, u'2015': 1, u'input': 1, u'2.': 1, u'ADMINISTRATIVE': 1, u'WEB': 1, u'provisions': 1, u'rules': 1, u'more;': 1, u'year,': 1, u'assessed).': 1, u'more.': 1, u'Act,': 1, u'Act.': 1, u'fall': 1, u'THE': 1, u'Bills': 1, u'bringing': 1, u'enacted': 1, u'ON': 1, u'revenues,': 1, u'penalties.': 1, u'(IH)]': 1, u'any,': 1, u'534': 1, u'Office]': 1, u'actions.': 1, u'referred': 1, u'ATTORNEY': 1, u'SHORT': 1, u'directly': 1, u'findings': 1, u'$1,000,000,000': 1, u'existing': 1, u'penalties': 1, u'guidelines': 1, u'Representatives': 1, u'authority': 1, u'CORPORATE-RELATED': 1, u'officials': 1, u'design': 1, u'Guidelines.--The': 1, u'calendar': 1, u'[H.R.': 1, u'``Corporate': 1, u'out': 1, u'category': 1, u'(a)': 1, u'DATABASE.': 1, u'both': 1, u'General,': 1, u'section': 1, u'Reporting': 1, u'brief': 1, u'per': 1, u'uniform': 1, u'REPORT.': 1, u'does': 1, u'conduct': 1, u'(2)': 1, u'America': 1, u'available': 1, u'convictions,': 1, u'database--': 1, u'U.S.': 1, u'DETAILS.': 1, u'not': 1, u'plea': 1, u'HOUSE': 1, u'consideration': 1, u'INFORMATION': 1, u'name': 1, u'about': 1, u'(b)': 1, u'prepare': 1, u'locations': 1, u'ACQUIRE': 1, u'allows': 1, u'creates': 1, u'Session': 1, u'H.': 1, u'3.': 1, u'introduced': 1, u'INPUT': 1, u'company,': 1, u'<all>': 1, u'disposition': 1, u'detailing': 1, u'SECTION': 1, u'6,': 1, u'period': 1, u'6.': 1, u'innocence,': 1, u'improper': 1, u'annum.': 1, u'appropriate': 1, u'Treatment': 1, u'1st': 1, u'carry': 1, u'corporations': 1, u'assembled,': 1, u'GENERAL': 1, u'relating': 1, u'consist': 1, u'Action.--Nothing': 1, u'addition': 1, u'data': 1, u'[Congressional': 1, u'(1)': 1, u'[From': 1, u'taken': 1, u'(c)': 1, u'was': 1, u'CRIME.': 1, u'Database': 1, u'January': 1, u'Judiciary,': 1, u'acquire': 1, u'it': 1, u'DATA.': 1, u'purposes': 1, u'5.': 1, u'agreements,': 1, u'Introduced': 1, u'Speaker,': 1, u'Congress]': 1, u'case': 1, u'has': 1, u'publicly': 1, u'accordance': 1, u'Reform,': 1, u'BILL': 1, u'limit': 1, u'following': 1, u'outcome': 1, u'PUBLIC': 1, u'Causes': 1, u'1.': 1, u'annual': 1, u'cited': 1, u'REPRESENTATIVES': 1, u'include,': 1, u'Mr.': 1, u'(including': 1, u'DATA': 1, u'if': 1, u'data,': 1, u'form': 1, u'TITLE.': 1, u'4.': 1, u'TO': 1, u'details': 1, u'which': 1, u'Agencies.--Each': 1, u'decrees,': 1, u\"Act''.\": 1, u'A': 1, u'regard': 1, u'description': 1, u'7.': 1, u'update': 1, u'collection': 1, u'magnitude': 1, u'Printing': 1, u'INCLUDED': 1, u'such': 1, u'Code,': 1, u'Senate': 1, u'well': 1, u'brought': 1, u'subsequently': 1, u'otherwise': 1})\n"
       ]
      }
     ],
     "prompt_number": 88
    },
    {
     "cell_type": "code",
     "collapsed": false,
     "input": [
      "print len(v1), len(v2)"
     ],
     "language": "python",
     "metadata": {},
     "outputs": [
      {
       "output_type": "stream",
       "stream": "stdout",
       "text": [
        "1044 1044\n"
       ]
      }
     ],
     "prompt_number": 90
    },
    {
     "cell_type": "code",
     "collapsed": false,
     "input": [
      "text1 = data['hr100']['text'].split()\n",
      "text2 = data['hr102']['text'].split()\n",
      "v1,v2= buildVector(text1, text2)\n",
      "print (cosim(v1, v2))"
     ],
     "language": "python",
     "metadata": {},
     "outputs": [
      {
       "output_type": "stream",
       "stream": "stdout",
       "text": [
        "0.711565732056\n"
       ]
      }
     ],
     "prompt_number": 94
    },
    {
     "cell_type": "code",
     "collapsed": false,
     "input": [
      "text1 = data['hr100']['text'].split()\n",
      "text2 = data['hr1002']['text'].split()\n",
      "v1,v2= buildVector(text1, text2)\n",
      "print (cosim(v1, v2))"
     ],
     "language": "python",
     "metadata": {},
     "outputs": [
      {
       "output_type": "stream",
       "stream": "stdout",
       "text": [
        "0.707755875251\n"
       ]
      }
     ],
     "prompt_number": 96
    },
    {
     "cell_type": "code",
     "collapsed": false,
     "input": [
      "bills_list = []\n",
      "for bill in data.keys():\n",
      "    bills_list.append(data[bill]['text'])\n",
      "\n",
      "print bills_list[:5]"
     ],
     "language": "python",
     "metadata": {},
     "outputs": [
      {
       "output_type": "stream",
       "stream": "stdout",
       "text": [
        "[u'<html>\\r\\n<head><title>404 Not Found</title></head>\\r\\n<body bgcolor=\"white\">\\r\\n<center><h1>404 Not Found</h1></center>\\r\\n<hr><center>nginx/1.4.6 (Ubuntu)</center>\\r\\n</body>\\r\\n</html>\\r\\n', u'<html>\\r\\n<head><title>404 Not Found</title></head>\\r\\n<body bgcolor=\"white\">\\r\\n<center><h1>404 Not Found</h1></center>\\r\\n<hr><center>nginx/1.4.6 (Ubuntu)</center>\\r\\n</body>\\r\\n</html>\\r\\n', u\"\\n[Congressional Bills 114th Congress]\\n[From the U.S. Government Printing Office]\\n[H.R. 641 Introduced in House (IH)]\\n\\n114th CONGRESS\\n 1st Session\\n H. R. 641\\n\\n To amend the Internal Revenue Code of 1986 to make permanent the \\nspecial rule for contributions of qualified conservation contributions.\\n\\n\\n\\n\\n\\n IN THE HOUSE OF REPRESENTATIVES\\n\\n February 2, 2015\\n\\nMr. Kelly of Pennsylvania (for himself, Mr. Thompson of California, Mr. \\nBenishek, Mr. Blumenauer, Mrs. Capps, Mr. Costello of Pennsylvania, Mr. \\n Dent, Mr. Doggett, Ms. Esty, Mr. Frelinghuysen, Mr. Garamendi, Mr. \\n Joyce, Ms. Kaptur, Mr. Kind, Ms. Kuster, Mr. Larson of Connecticut, \\n Mrs. Lummis, Mr. McDermott, Mr. McGovern, Mr. Meehan, Mr. Neal, Mr. \\nRangel, Mr. Reed, Ms. Linda T. Saanchez of California, Mr. Schock, Mr. \\n Sensenbrenner, Ms. Tsongas, Mr. Walz, Mr. Gibson, Mr. Smith of \\n Missouri, Mr. Marino, Mr. Young of Alaska, Mr. Welch, Mr. Zinke, Mr. \\n Murphy of Florida, and Mr. Sanford) introduced the following bill; \\n which was referred to the Committee on Ways and Means\\n\\n\\n\\n A BILL\\n\\n\\n \\n To amend the Internal Revenue Code of 1986 to make permanent the \\nspecial rule for contributions of qualified conservation contributions.\\n\\n Be it enacted by the Senate and House of Representatives of the \\nUnited States of America in Congress assembled,\\n\\nSECTION 1. SHORT TITLE.\\n\\n This Act may be cited as the ``Conservation Easement Incentive Act \\nof 2015''.\\n\\nSEC. 2. SPECIAL RULE FOR CONTRIBUTIONS OF QUALIFIED CONSERVATION \\n CONTRIBUTIONS MADE PERMANENT.\\n\\n (a) In General.--\\n (1) Individuals.--Subparagraph (E) of section 170(b)(1) of \\n the Internal Revenue Code of 1986 (relating to contributions of \\n qualified conservation contributions) is amended by striking \\n clause (vi).\\n (2) Corporations.--Subparagraph (B) of section 170(b)(2) of \\n such Code (relating to qualified conservation contributions) is \\n amended by striking clause (iii).\\n (b) Contributions of Capital Gain Real Property Made for \\nConservation Purposes by Native Corporations.--\\n (1) In general.--Section 170(b)(2) of such Code is amended \\n by redesignating subparagraph (C) as subparagraph (D), and by \\n inserting after subparagraph (B) the following new \\n subparagraph:\\n ``(C) Qualified conservation contributions by \\n certain native corporations.--\\n ``(i) In general.--Any qualified \\n conservation contribution (as defined in \\n subsection (h)(1)) which--\\n ``(I) is made by a Native \\n Corporation, and\\n ``(II) is a contribution of \\n property which was land conveyed under \\n the Alaska Native Claims Settlement \\n Act,\\n shall be allowed to the extent that the \\n aggregate amount of such contributions does not \\n exceed the excess of the taxpayer's taxable \\n income over the amount of charitable \\n contributions allowable under subparagraph (A).\\n ``(ii) Carryover.--If the aggregate amount \\n of contributions described in clause (i) \\n exceeds the limitation of clause (i), such \\n excess shall be treated (in a manner consistent \\n with the rules of subsection (d)(2)) as a \\n charitable contribution to which clause (i) \\n applies in each of the 15 succeeding years in \\n order of time.\\n ``(iii) Native corporation.--For purposes \\n of this subparagraph, the term `Native \\n Corporation' has the meaning given such term by \\n section 3(m) of the Alaska Native Claims \\n Settlement Act.''.\\n (2) Conforming amendment.--Section 170(b)(2)(A) of such \\n Code is amended by striking ``subparagraph (B) applies'' and \\n inserting ``subparagraph (B) or (C) applies''.\\n (3) Valid existing rights preserved.--Nothing in this \\n subsection (or any amendment made by this subsection) shall be \\n construed to modify the existing property rights validly \\n conveyed to Native Corporations (within the meaning of section \\n 3(m) of the Alaska Native Claims Settlement Act) under such \\n Act.\\n (c) Effective Date.--The amendments made by this section shall \\napply to contributions made in taxable years beginning after December \\n31, 2014.\\n <all>\\n\", u\"\\n[Congressional Bills 114th Congress]\\n[From the U.S. Government Printing Office]\\n[H.R. 640 Introduced in House (IH)]\\n\\n114th CONGRESS\\n 1st Session\\n H. R. 640\\n\\n To amend the Internal Revenue Code of 1986 to modify the tax rate for \\n excise tax on investment income of private foundations.\\n\\n\\n\\n\\n\\n IN THE HOUSE OF REPRESENTATIVES\\n\\n February 2, 2015\\n\\nMr. Paulsen (for himself and Mr. Danny K. Davis of Illinois) introduced \\n the following bill; which was referred to the Committee on Ways and \\nMeans, and in addition to the Committee on the Budget, for a period to \\n be subsequently determined by the Speaker, in each case for \\nconsideration of such provisions as fall within the jurisdiction of the \\n committee concerned\\n\\n\\n\\n A BILL\\n\\n\\n \\n To amend the Internal Revenue Code of 1986 to modify the tax rate for \\n excise tax on investment income of private foundations.\\n\\n Be it enacted by the Senate and House of Representatives of the \\nUnited States of America in Congress assembled,\\n\\nSECTION 1. MODIFICATION OF THE TAX RATE FOR THE EXCISE TAX ON \\n INVESTMENT INCOME OF PRIVATE FOUNDATIONS.\\n\\n (a) In General.--Section 4940(a) of the Internal Revenue Code of \\n1986 is amended by striking ``2 percent'' and inserting ``1 percent''.\\n (b) Elimination of Reduced Tax Where Foundation Meets Certain \\nDistribution Requirements.--Section 4940 of such Code is amended by \\nstriking subsection (e).\\n (c) Effective Date.--The amendments made by this section shall \\napply to taxable years beginning after the date of the enactment of \\nthis Act.\\n\\nSEC. 2. BUDGETARY EFFECTS.\\n\\n The budgetary effects of this Act shall not be entered on either \\nPAYGO scorecard maintained pursuant to section 4(d) of the Statutory \\nPay-As-You-Go Act of 2010.\\n <all>\\n\", u\"\\n[Congressional Bills 114th Congress]\\n[From the U.S. Government Printing Office]\\n[H.R. 179 Introduced in House (IH)]\\n\\n114th CONGRESS\\n 1st Session\\n H. R. 179\\n\\nTo amend the Legislative Reorganization Act of 1946 to reduce the rates \\n of pay of Members of Congress by 5 percent and eliminate future cost-\\n of-living adjustments in such rates of pay.\\n\\n\\n\\n\\n\\n IN THE HOUSE OF REPRESENTATIVES\\n\\n January 6, 2015\\n\\n Mr. Yoder introduced the following bill; which was referred to the \\nCommittee on House Administration, and in addition to the Committee on \\n Oversight and Government Reform, for a period to be subsequently \\n determined by the Speaker, in each case for consideration of such \\n provisions as fall within the jurisdiction of the committee concerned\\n\\n\\n\\n A BILL\\n\\n\\n \\nTo amend the Legislative Reorganization Act of 1946 to reduce the rates \\n of pay of Members of Congress by 5 percent and eliminate future cost-\\n of-living adjustments in such rates of pay.\\n\\n Be it enacted by the Senate and House of Representatives of the \\nUnited States of America in Congress assembled,\\n\\nSECTION 1. SHORT TITLE.\\n\\n This Act may be cited as the ``Congressional Pay Reduction Act''.\\n\\nSEC. 2. REDUCTION IN RATES OF PAY AND ELIMINATION OF FUTURE COST-OF-\\n LIVING ADJUSTMENTS FOR MEMBERS OF CONGRESS.\\n\\n Section 601(a) of the Legislative Reorganization Act of 1946 (2 \\nU.S.C. 4501) is amended by amending paragraph (2) to read as follows:\\n ``(2) Effective with respect to pay periods beginning after the \\ndate of the regularly scheduled general election for Federal office \\nheld in November 2016, the annual rate of pay for each of the positions \\ndescribed in paragraph (1) shall be equal to 95 percent of the annual \\nrate of pay for such position for the most recent pay period preceding \\nsuch election.''.\\n <all>\\n\"]\n"
       ]
      }
     ],
     "prompt_number": 102
    },
    {
     "cell_type": "code",
     "collapsed": false,
     "input": [
      "bills_list.pop(0)\n",
      "bills_list.pop(0)"
     ],
     "language": "python",
     "metadata": {},
     "outputs": [
      {
       "metadata": {},
       "output_type": "pyout",
       "prompt_number": 103,
       "text": [
        "u'<html>\\r\\n<head><title>404 Not Found</title></head>\\r\\n<body bgcolor=\"white\">\\r\\n<center><h1>404 Not Found</h1></center>\\r\\n<hr><center>nginx/1.4.6 (Ubuntu)</center>\\r\\n</body>\\r\\n</html>\\r\\n'"
       ]
      }
     ],
     "prompt_number": 103
    },
    {
     "cell_type": "code",
     "collapsed": false,
     "input": [
      "cosine_values = []\n",
      "for i, v in enumerate(bills_list[:5]):\n",
      "    if i == 0:\n",
      "        pass\n",
      "    else:\n",
      "        text1 = bills_list[i-1].split()\n",
      "        text2 = bills_list[i].split()\n",
      "        v1,v2= buildVector(text1, text2)\n",
      "        print (cosim(v1, v2))"
     ],
     "language": "python",
     "metadata": {},
     "outputs": [
      {
       "output_type": "stream",
       "stream": "stdout",
       "text": [
        "0.774165218148\n",
        "0.839348853319\n",
        "0.749539816205\n",
        "0.780653237997\n"
       ]
      }
     ],
     "prompt_number": 106
    },
    {
     "cell_type": "code",
     "collapsed": false,
     "input": [
      "print len(bills_list)"
     ],
     "language": "python",
     "metadata": {},
     "outputs": [
      {
       "output_type": "stream",
       "stream": "stdout",
       "text": [
        "1325\n"
       ]
      }
     ],
     "prompt_number": 107
    },
    {
     "cell_type": "code",
     "collapsed": false,
     "input": [
      "cosine_values = []\n",
      "print len(cosine_values)"
     ],
     "language": "python",
     "metadata": {},
     "outputs": [
      {
       "output_type": "stream",
       "stream": "stdout",
       "text": [
        "0\n"
       ]
      }
     ],
     "prompt_number": 183
    },
    {
     "cell_type": "code",
     "collapsed": false,
     "input": [
      "len(bills_list)"
     ],
     "language": "python",
     "metadata": {},
     "outputs": [
      {
       "metadata": {},
       "output_type": "pyout",
       "prompt_number": 191,
       "text": [
        "1325"
       ]
      }
     ],
     "prompt_number": 191
    },
    {
     "cell_type": "code",
     "collapsed": false,
     "input": [
      "cosine_values = []\n",
      "\n",
      "# mx = 20\n",
      "mx = len(bills_list)\n",
      "# mx = 100\n",
      "\n",
      "\n",
      "for j in range(mx):\n",
      "    temp = []\n",
      "    print j\n",
      "    for i, v in enumerate(bills_list):\n",
      "        \n",
      "        k = i + j\n",
      "        if k == j: \n",
      "            pass\n",
      "        elif k >= mx:\n",
      "            pass\n",
      "        else:\n",
      "#             print j, k\n",
      "            text1 = bills_list[j].split()\n",
      "            text2 = bills_list[k].split()\n",
      "            v1,v2= buildVector(text1, text2)\n",
      "            cos = cosim(v1, v2)\n",
      "            temp.append(cos)\n",
      "            \n",
      "    cosine_values.append(temp)\n",
      "        \n",
      "print len(cosine_values)"
     ],
     "language": "python",
     "metadata": {},
     "outputs": [
      {
       "output_type": "stream",
       "stream": "stdout",
       "text": [
        "0\n",
        "1"
       ]
      },
      {
       "output_type": "stream",
       "stream": "stdout",
       "text": [
        "\n",
        "2"
       ]
      },
      {
       "output_type": "stream",
       "stream": "stdout",
       "text": [
        "\n",
        "3"
       ]
      },
      {
       "output_type": "stream",
       "stream": "stdout",
       "text": [
        "\n",
        "4"
       ]
      },
      {
       "output_type": "stream",
       "stream": "stdout",
       "text": [
        "\n",
        "5"
       ]
      },
      {
       "output_type": "stream",
       "stream": "stdout",
       "text": [
        "\n",
        "6"
       ]
      },
      {
       "output_type": "stream",
       "stream": "stdout",
       "text": [
        "\n",
        "7"
       ]
      },
      {
       "output_type": "stream",
       "stream": "stdout",
       "text": [
        "\n",
        "8"
       ]
      },
      {
       "output_type": "stream",
       "stream": "stdout",
       "text": [
        "\n",
        "9"
       ]
      },
      {
       "output_type": "stream",
       "stream": "stdout",
       "text": [
        "\n",
        "10"
       ]
      },
      {
       "output_type": "stream",
       "stream": "stdout",
       "text": [
        "\n",
        "11"
       ]
      },
      {
       "output_type": "stream",
       "stream": "stdout",
       "text": [
        "\n",
        "12"
       ]
      },
      {
       "output_type": "stream",
       "stream": "stdout",
       "text": [
        "\n",
        "13"
       ]
      },
      {
       "output_type": "stream",
       "stream": "stdout",
       "text": [
        "\n",
        "14"
       ]
      },
      {
       "output_type": "stream",
       "stream": "stdout",
       "text": [
        "\n",
        "15"
       ]
      },
      {
       "output_type": "stream",
       "stream": "stdout",
       "text": [
        "\n",
        "16"
       ]
      },
      {
       "output_type": "stream",
       "stream": "stdout",
       "text": [
        "\n",
        "17"
       ]
      },
      {
       "output_type": "stream",
       "stream": "stdout",
       "text": [
        "\n",
        "18"
       ]
      },
      {
       "output_type": "stream",
       "stream": "stdout",
       "text": [
        "\n",
        "19"
       ]
      },
      {
       "output_type": "stream",
       "stream": "stdout",
       "text": [
        "\n",
        "20"
       ]
      },
      {
       "output_type": "stream",
       "stream": "stdout",
       "text": [
        "\n",
        "21"
       ]
      },
      {
       "output_type": "stream",
       "stream": "stdout",
       "text": [
        "\n",
        "22"
       ]
      },
      {
       "output_type": "stream",
       "stream": "stdout",
       "text": [
        "\n",
        "23"
       ]
      },
      {
       "output_type": "stream",
       "stream": "stdout",
       "text": [
        "\n",
        "24"
       ]
      },
      {
       "output_type": "stream",
       "stream": "stdout",
       "text": [
        "\n",
        "25"
       ]
      },
      {
       "output_type": "stream",
       "stream": "stdout",
       "text": [
        "\n",
        "26"
       ]
      },
      {
       "output_type": "stream",
       "stream": "stdout",
       "text": [
        "\n",
        "27"
       ]
      },
      {
       "output_type": "stream",
       "stream": "stdout",
       "text": [
        "\n",
        "28"
       ]
      },
      {
       "output_type": "stream",
       "stream": "stdout",
       "text": [
        "\n",
        "29"
       ]
      },
      {
       "output_type": "stream",
       "stream": "stdout",
       "text": [
        "\n",
        "30"
       ]
      },
      {
       "output_type": "stream",
       "stream": "stdout",
       "text": [
        "\n",
        "31"
       ]
      },
      {
       "output_type": "stream",
       "stream": "stdout",
       "text": [
        "\n",
        "32"
       ]
      },
      {
       "output_type": "stream",
       "stream": "stdout",
       "text": [
        "\n",
        "33"
       ]
      },
      {
       "output_type": "stream",
       "stream": "stdout",
       "text": [
        "\n",
        "34"
       ]
      },
      {
       "output_type": "stream",
       "stream": "stdout",
       "text": [
        "\n",
        "35"
       ]
      },
      {
       "output_type": "stream",
       "stream": "stdout",
       "text": [
        "\n",
        "36"
       ]
      },
      {
       "output_type": "stream",
       "stream": "stdout",
       "text": [
        "\n",
        "37"
       ]
      },
      {
       "output_type": "stream",
       "stream": "stdout",
       "text": [
        "\n",
        "38"
       ]
      },
      {
       "output_type": "stream",
       "stream": "stdout",
       "text": [
        "\n",
        "39"
       ]
      },
      {
       "output_type": "stream",
       "stream": "stdout",
       "text": [
        "\n",
        "40"
       ]
      },
      {
       "output_type": "stream",
       "stream": "stdout",
       "text": [
        "\n",
        "41"
       ]
      },
      {
       "output_type": "stream",
       "stream": "stdout",
       "text": [
        "\n",
        "42"
       ]
      },
      {
       "output_type": "stream",
       "stream": "stdout",
       "text": [
        "\n",
        "43"
       ]
      },
      {
       "output_type": "stream",
       "stream": "stdout",
       "text": [
        "\n",
        "44"
       ]
      },
      {
       "output_type": "stream",
       "stream": "stdout",
       "text": [
        "\n",
        "45"
       ]
      },
      {
       "output_type": "stream",
       "stream": "stdout",
       "text": [
        "\n",
        "46"
       ]
      },
      {
       "output_type": "stream",
       "stream": "stdout",
       "text": [
        "\n",
        "47"
       ]
      },
      {
       "output_type": "stream",
       "stream": "stdout",
       "text": [
        "\n",
        "48"
       ]
      },
      {
       "output_type": "stream",
       "stream": "stdout",
       "text": [
        "\n",
        "49"
       ]
      },
      {
       "output_type": "stream",
       "stream": "stdout",
       "text": [
        "\n",
        "50"
       ]
      },
      {
       "output_type": "stream",
       "stream": "stdout",
       "text": [
        "\n",
        "51"
       ]
      },
      {
       "output_type": "stream",
       "stream": "stdout",
       "text": [
        "\n",
        "52"
       ]
      },
      {
       "output_type": "stream",
       "stream": "stdout",
       "text": [
        "\n",
        "53"
       ]
      },
      {
       "output_type": "stream",
       "stream": "stdout",
       "text": [
        "\n",
        "54"
       ]
      },
      {
       "output_type": "stream",
       "stream": "stdout",
       "text": [
        "\n",
        "55"
       ]
      },
      {
       "output_type": "stream",
       "stream": "stdout",
       "text": [
        "\n",
        "56"
       ]
      },
      {
       "output_type": "stream",
       "stream": "stdout",
       "text": [
        "\n",
        "57"
       ]
      },
      {
       "output_type": "stream",
       "stream": "stdout",
       "text": [
        "\n",
        "58"
       ]
      },
      {
       "output_type": "stream",
       "stream": "stdout",
       "text": [
        "\n",
        "59"
       ]
      },
      {
       "output_type": "stream",
       "stream": "stdout",
       "text": [
        "\n",
        "60"
       ]
      },
      {
       "output_type": "stream",
       "stream": "stdout",
       "text": [
        "\n",
        "61"
       ]
      },
      {
       "output_type": "stream",
       "stream": "stdout",
       "text": [
        "\n",
        "62"
       ]
      },
      {
       "output_type": "stream",
       "stream": "stdout",
       "text": [
        "\n",
        "63"
       ]
      },
      {
       "output_type": "stream",
       "stream": "stdout",
       "text": [
        "\n",
        "64"
       ]
      },
      {
       "output_type": "stream",
       "stream": "stdout",
       "text": [
        "\n",
        "65"
       ]
      },
      {
       "output_type": "stream",
       "stream": "stdout",
       "text": [
        "\n",
        "66"
       ]
      },
      {
       "output_type": "stream",
       "stream": "stdout",
       "text": [
        "\n",
        "67"
       ]
      },
      {
       "output_type": "stream",
       "stream": "stdout",
       "text": [
        "\n",
        "68"
       ]
      },
      {
       "output_type": "stream",
       "stream": "stdout",
       "text": [
        "\n",
        "69"
       ]
      },
      {
       "output_type": "stream",
       "stream": "stdout",
       "text": [
        "\n",
        "70"
       ]
      },
      {
       "output_type": "stream",
       "stream": "stdout",
       "text": [
        "\n",
        "71"
       ]
      },
      {
       "output_type": "stream",
       "stream": "stdout",
       "text": [
        "\n",
        "72"
       ]
      },
      {
       "output_type": "stream",
       "stream": "stdout",
       "text": [
        "\n",
        "73"
       ]
      },
      {
       "output_type": "stream",
       "stream": "stdout",
       "text": [
        "\n",
        "74"
       ]
      },
      {
       "output_type": "stream",
       "stream": "stdout",
       "text": [
        "\n",
        "75"
       ]
      },
      {
       "output_type": "stream",
       "stream": "stdout",
       "text": [
        "\n",
        "76"
       ]
      },
      {
       "output_type": "stream",
       "stream": "stdout",
       "text": [
        "\n",
        "77"
       ]
      },
      {
       "output_type": "stream",
       "stream": "stdout",
       "text": [
        "\n",
        "78"
       ]
      },
      {
       "output_type": "stream",
       "stream": "stdout",
       "text": [
        "\n",
        "79"
       ]
      },
      {
       "output_type": "stream",
       "stream": "stdout",
       "text": [
        "\n",
        "80"
       ]
      },
      {
       "output_type": "stream",
       "stream": "stdout",
       "text": [
        "\n",
        "81"
       ]
      },
      {
       "output_type": "stream",
       "stream": "stdout",
       "text": [
        "\n",
        "82"
       ]
      },
      {
       "output_type": "stream",
       "stream": "stdout",
       "text": [
        "\n",
        "83"
       ]
      },
      {
       "output_type": "stream",
       "stream": "stdout",
       "text": [
        "\n",
        "84"
       ]
      },
      {
       "output_type": "stream",
       "stream": "stdout",
       "text": [
        "\n",
        "85"
       ]
      },
      {
       "output_type": "stream",
       "stream": "stdout",
       "text": [
        "\n",
        "86"
       ]
      },
      {
       "output_type": "stream",
       "stream": "stdout",
       "text": [
        "\n",
        "87"
       ]
      },
      {
       "output_type": "stream",
       "stream": "stdout",
       "text": [
        "\n",
        "88"
       ]
      },
      {
       "output_type": "stream",
       "stream": "stdout",
       "text": [
        "\n",
        "89"
       ]
      },
      {
       "output_type": "stream",
       "stream": "stdout",
       "text": [
        "\n",
        "90"
       ]
      },
      {
       "output_type": "stream",
       "stream": "stdout",
       "text": [
        "\n",
        "91"
       ]
      },
      {
       "output_type": "stream",
       "stream": "stdout",
       "text": [
        "\n",
        "92"
       ]
      },
      {
       "output_type": "stream",
       "stream": "stdout",
       "text": [
        "\n",
        "93"
       ]
      },
      {
       "output_type": "stream",
       "stream": "stdout",
       "text": [
        "\n",
        "94"
       ]
      },
      {
       "output_type": "stream",
       "stream": "stdout",
       "text": [
        "\n",
        "95"
       ]
      },
      {
       "output_type": "stream",
       "stream": "stdout",
       "text": [
        "\n",
        "96"
       ]
      },
      {
       "output_type": "stream",
       "stream": "stdout",
       "text": [
        "\n",
        "97"
       ]
      },
      {
       "output_type": "stream",
       "stream": "stdout",
       "text": [
        "\n",
        "98"
       ]
      },
      {
       "output_type": "stream",
       "stream": "stdout",
       "text": [
        "\n",
        "99"
       ]
      },
      {
       "output_type": "stream",
       "stream": "stdout",
       "text": [
        "\n",
        "100"
       ]
      },
      {
       "output_type": "stream",
       "stream": "stdout",
       "text": [
        "\n",
        "101"
       ]
      },
      {
       "output_type": "stream",
       "stream": "stdout",
       "text": [
        "\n",
        "102"
       ]
      },
      {
       "output_type": "stream",
       "stream": "stdout",
       "text": [
        "\n",
        "103"
       ]
      },
      {
       "output_type": "stream",
       "stream": "stdout",
       "text": [
        "\n",
        "104"
       ]
      },
      {
       "output_type": "stream",
       "stream": "stdout",
       "text": [
        "\n",
        "105"
       ]
      },
      {
       "output_type": "stream",
       "stream": "stdout",
       "text": [
        "\n",
        "106"
       ]
      },
      {
       "output_type": "stream",
       "stream": "stdout",
       "text": [
        "\n",
        "107"
       ]
      },
      {
       "output_type": "stream",
       "stream": "stdout",
       "text": [
        "\n",
        "108"
       ]
      },
      {
       "output_type": "stream",
       "stream": "stdout",
       "text": [
        "\n",
        "109"
       ]
      },
      {
       "output_type": "stream",
       "stream": "stdout",
       "text": [
        "\n",
        "110"
       ]
      },
      {
       "output_type": "stream",
       "stream": "stdout",
       "text": [
        "\n",
        "111"
       ]
      },
      {
       "output_type": "stream",
       "stream": "stdout",
       "text": [
        "\n",
        "112"
       ]
      },
      {
       "output_type": "stream",
       "stream": "stdout",
       "text": [
        "\n",
        "113"
       ]
      },
      {
       "output_type": "stream",
       "stream": "stdout",
       "text": [
        "\n",
        "114"
       ]
      },
      {
       "output_type": "stream",
       "stream": "stdout",
       "text": [
        "\n",
        "115"
       ]
      },
      {
       "output_type": "stream",
       "stream": "stdout",
       "text": [
        "\n",
        "116"
       ]
      },
      {
       "output_type": "stream",
       "stream": "stdout",
       "text": [
        "\n",
        "117"
       ]
      },
      {
       "output_type": "stream",
       "stream": "stdout",
       "text": [
        "\n",
        "118"
       ]
      },
      {
       "output_type": "stream",
       "stream": "stdout",
       "text": [
        "\n",
        "119"
       ]
      },
      {
       "output_type": "stream",
       "stream": "stdout",
       "text": [
        "\n",
        "120"
       ]
      },
      {
       "output_type": "stream",
       "stream": "stdout",
       "text": [
        "\n",
        "121"
       ]
      },
      {
       "output_type": "stream",
       "stream": "stdout",
       "text": [
        "\n",
        "122"
       ]
      },
      {
       "output_type": "stream",
       "stream": "stdout",
       "text": [
        "\n",
        "123"
       ]
      },
      {
       "output_type": "stream",
       "stream": "stdout",
       "text": [
        "\n",
        "124"
       ]
      },
      {
       "output_type": "stream",
       "stream": "stdout",
       "text": [
        "\n",
        "125"
       ]
      },
      {
       "output_type": "stream",
       "stream": "stdout",
       "text": [
        "\n",
        "126"
       ]
      },
      {
       "output_type": "stream",
       "stream": "stdout",
       "text": [
        "\n",
        "127"
       ]
      },
      {
       "output_type": "stream",
       "stream": "stdout",
       "text": [
        "\n",
        "128"
       ]
      },
      {
       "output_type": "stream",
       "stream": "stdout",
       "text": [
        "\n",
        "129"
       ]
      },
      {
       "output_type": "stream",
       "stream": "stdout",
       "text": [
        "\n",
        "130"
       ]
      },
      {
       "output_type": "stream",
       "stream": "stdout",
       "text": [
        "\n",
        "131"
       ]
      },
      {
       "output_type": "stream",
       "stream": "stdout",
       "text": [
        "\n",
        "132"
       ]
      },
      {
       "output_type": "stream",
       "stream": "stdout",
       "text": [
        "\n",
        "133"
       ]
      },
      {
       "output_type": "stream",
       "stream": "stdout",
       "text": [
        "\n",
        "134"
       ]
      },
      {
       "output_type": "stream",
       "stream": "stdout",
       "text": [
        "\n",
        "135"
       ]
      },
      {
       "output_type": "stream",
       "stream": "stdout",
       "text": [
        "\n",
        "136"
       ]
      },
      {
       "output_type": "stream",
       "stream": "stdout",
       "text": [
        "\n",
        "137"
       ]
      },
      {
       "output_type": "stream",
       "stream": "stdout",
       "text": [
        "\n",
        "138"
       ]
      },
      {
       "output_type": "stream",
       "stream": "stdout",
       "text": [
        "\n",
        "139"
       ]
      },
      {
       "output_type": "stream",
       "stream": "stdout",
       "text": [
        "\n",
        "140"
       ]
      },
      {
       "output_type": "stream",
       "stream": "stdout",
       "text": [
        "\n",
        "141"
       ]
      },
      {
       "output_type": "stream",
       "stream": "stdout",
       "text": [
        "\n",
        "142"
       ]
      },
      {
       "output_type": "stream",
       "stream": "stdout",
       "text": [
        "\n",
        "143"
       ]
      },
      {
       "output_type": "stream",
       "stream": "stdout",
       "text": [
        "\n",
        "144"
       ]
      },
      {
       "output_type": "stream",
       "stream": "stdout",
       "text": [
        "\n",
        "145"
       ]
      },
      {
       "output_type": "stream",
       "stream": "stdout",
       "text": [
        "\n",
        "146"
       ]
      },
      {
       "output_type": "stream",
       "stream": "stdout",
       "text": [
        "\n",
        "147"
       ]
      },
      {
       "output_type": "stream",
       "stream": "stdout",
       "text": [
        "\n",
        "148"
       ]
      },
      {
       "output_type": "stream",
       "stream": "stdout",
       "text": [
        "\n",
        "149"
       ]
      },
      {
       "output_type": "stream",
       "stream": "stdout",
       "text": [
        "\n",
        "150"
       ]
      },
      {
       "output_type": "stream",
       "stream": "stdout",
       "text": [
        "\n",
        "151"
       ]
      },
      {
       "output_type": "stream",
       "stream": "stdout",
       "text": [
        "\n",
        "152"
       ]
      },
      {
       "output_type": "stream",
       "stream": "stdout",
       "text": [
        "\n",
        "153"
       ]
      },
      {
       "output_type": "stream",
       "stream": "stdout",
       "text": [
        "\n",
        "154"
       ]
      },
      {
       "output_type": "stream",
       "stream": "stdout",
       "text": [
        "\n",
        "155"
       ]
      },
      {
       "output_type": "stream",
       "stream": "stdout",
       "text": [
        "\n",
        "156"
       ]
      },
      {
       "output_type": "stream",
       "stream": "stdout",
       "text": [
        "\n",
        "157"
       ]
      },
      {
       "output_type": "stream",
       "stream": "stdout",
       "text": [
        "\n",
        "158"
       ]
      },
      {
       "output_type": "stream",
       "stream": "stdout",
       "text": [
        "\n",
        "159"
       ]
      },
      {
       "output_type": "stream",
       "stream": "stdout",
       "text": [
        "\n",
        "160"
       ]
      },
      {
       "output_type": "stream",
       "stream": "stdout",
       "text": [
        "\n",
        "161"
       ]
      },
      {
       "output_type": "stream",
       "stream": "stdout",
       "text": [
        "\n",
        "162"
       ]
      },
      {
       "output_type": "stream",
       "stream": "stdout",
       "text": [
        "\n",
        "163"
       ]
      },
      {
       "output_type": "stream",
       "stream": "stdout",
       "text": [
        "\n",
        "164"
       ]
      },
      {
       "output_type": "stream",
       "stream": "stdout",
       "text": [
        "\n",
        "165"
       ]
      },
      {
       "output_type": "stream",
       "stream": "stdout",
       "text": [
        "\n",
        "166"
       ]
      },
      {
       "output_type": "stream",
       "stream": "stdout",
       "text": [
        "\n",
        "167"
       ]
      },
      {
       "output_type": "stream",
       "stream": "stdout",
       "text": [
        "\n",
        "168"
       ]
      },
      {
       "output_type": "stream",
       "stream": "stdout",
       "text": [
        "\n",
        "169"
       ]
      },
      {
       "output_type": "stream",
       "stream": "stdout",
       "text": [
        "\n",
        "170"
       ]
      },
      {
       "output_type": "stream",
       "stream": "stdout",
       "text": [
        "\n",
        "171"
       ]
      },
      {
       "output_type": "stream",
       "stream": "stdout",
       "text": [
        "\n",
        "172"
       ]
      },
      {
       "output_type": "stream",
       "stream": "stdout",
       "text": [
        "\n",
        "173"
       ]
      },
      {
       "output_type": "stream",
       "stream": "stdout",
       "text": [
        "\n",
        "174"
       ]
      },
      {
       "output_type": "stream",
       "stream": "stdout",
       "text": [
        "\n",
        "175"
       ]
      },
      {
       "output_type": "stream",
       "stream": "stdout",
       "text": [
        "\n",
        "176"
       ]
      },
      {
       "output_type": "stream",
       "stream": "stdout",
       "text": [
        "\n",
        "177"
       ]
      },
      {
       "output_type": "stream",
       "stream": "stdout",
       "text": [
        "\n",
        "178"
       ]
      },
      {
       "output_type": "stream",
       "stream": "stdout",
       "text": [
        "\n",
        "179"
       ]
      },
      {
       "output_type": "stream",
       "stream": "stdout",
       "text": [
        "\n",
        "180"
       ]
      },
      {
       "output_type": "stream",
       "stream": "stdout",
       "text": [
        "\n",
        "181"
       ]
      },
      {
       "output_type": "stream",
       "stream": "stdout",
       "text": [
        "\n",
        "182"
       ]
      },
      {
       "output_type": "stream",
       "stream": "stdout",
       "text": [
        "\n",
        "183"
       ]
      },
      {
       "output_type": "stream",
       "stream": "stdout",
       "text": [
        "\n",
        "184"
       ]
      },
      {
       "output_type": "stream",
       "stream": "stdout",
       "text": [
        "\n",
        "185"
       ]
      },
      {
       "output_type": "stream",
       "stream": "stdout",
       "text": [
        "\n",
        "186"
       ]
      },
      {
       "output_type": "stream",
       "stream": "stdout",
       "text": [
        "\n",
        "187"
       ]
      },
      {
       "output_type": "stream",
       "stream": "stdout",
       "text": [
        "\n",
        "188"
       ]
      },
      {
       "output_type": "stream",
       "stream": "stdout",
       "text": [
        "\n",
        "189"
       ]
      },
      {
       "output_type": "stream",
       "stream": "stdout",
       "text": [
        "\n",
        "190"
       ]
      },
      {
       "output_type": "stream",
       "stream": "stdout",
       "text": [
        "\n",
        "191"
       ]
      },
      {
       "output_type": "stream",
       "stream": "stdout",
       "text": [
        "\n",
        "192"
       ]
      },
      {
       "output_type": "stream",
       "stream": "stdout",
       "text": [
        "\n",
        "193"
       ]
      },
      {
       "output_type": "stream",
       "stream": "stdout",
       "text": [
        "\n",
        "194"
       ]
      },
      {
       "output_type": "stream",
       "stream": "stdout",
       "text": [
        "\n",
        "195"
       ]
      },
      {
       "output_type": "stream",
       "stream": "stdout",
       "text": [
        "\n",
        "196"
       ]
      },
      {
       "output_type": "stream",
       "stream": "stdout",
       "text": [
        "\n",
        "197"
       ]
      },
      {
       "output_type": "stream",
       "stream": "stdout",
       "text": [
        "\n",
        "198"
       ]
      },
      {
       "output_type": "stream",
       "stream": "stdout",
       "text": [
        "\n",
        "199"
       ]
      },
      {
       "output_type": "stream",
       "stream": "stdout",
       "text": [
        "\n",
        "200"
       ]
      },
      {
       "output_type": "stream",
       "stream": "stdout",
       "text": [
        "\n",
        "201"
       ]
      },
      {
       "output_type": "stream",
       "stream": "stdout",
       "text": [
        "\n",
        "202"
       ]
      },
      {
       "output_type": "stream",
       "stream": "stdout",
       "text": [
        "\n",
        "203"
       ]
      },
      {
       "output_type": "stream",
       "stream": "stdout",
       "text": [
        "\n",
        "204"
       ]
      },
      {
       "output_type": "stream",
       "stream": "stdout",
       "text": [
        "\n",
        "205"
       ]
      },
      {
       "output_type": "stream",
       "stream": "stdout",
       "text": [
        "\n",
        "206"
       ]
      },
      {
       "output_type": "stream",
       "stream": "stdout",
       "text": [
        "\n",
        "207"
       ]
      },
      {
       "output_type": "stream",
       "stream": "stdout",
       "text": [
        "\n",
        "208"
       ]
      },
      {
       "output_type": "stream",
       "stream": "stdout",
       "text": [
        "\n",
        "209"
       ]
      },
      {
       "output_type": "stream",
       "stream": "stdout",
       "text": [
        "\n",
        "210"
       ]
      },
      {
       "output_type": "stream",
       "stream": "stdout",
       "text": [
        "\n",
        "211"
       ]
      },
      {
       "output_type": "stream",
       "stream": "stdout",
       "text": [
        "\n",
        "212"
       ]
      },
      {
       "output_type": "stream",
       "stream": "stdout",
       "text": [
        "\n",
        "213"
       ]
      },
      {
       "output_type": "stream",
       "stream": "stdout",
       "text": [
        "\n",
        "214"
       ]
      },
      {
       "output_type": "stream",
       "stream": "stdout",
       "text": [
        "\n",
        "215"
       ]
      },
      {
       "output_type": "stream",
       "stream": "stdout",
       "text": [
        "\n",
        "216"
       ]
      },
      {
       "output_type": "stream",
       "stream": "stdout",
       "text": [
        "\n",
        "217"
       ]
      },
      {
       "output_type": "stream",
       "stream": "stdout",
       "text": [
        "\n",
        "218"
       ]
      },
      {
       "output_type": "stream",
       "stream": "stdout",
       "text": [
        "\n",
        "219"
       ]
      },
      {
       "output_type": "stream",
       "stream": "stdout",
       "text": [
        "\n",
        "220"
       ]
      },
      {
       "output_type": "stream",
       "stream": "stdout",
       "text": [
        "\n",
        "221"
       ]
      },
      {
       "output_type": "stream",
       "stream": "stdout",
       "text": [
        "\n",
        "222"
       ]
      },
      {
       "output_type": "stream",
       "stream": "stdout",
       "text": [
        "\n",
        "223"
       ]
      },
      {
       "output_type": "stream",
       "stream": "stdout",
       "text": [
        "\n",
        "224"
       ]
      },
      {
       "output_type": "stream",
       "stream": "stdout",
       "text": [
        "\n",
        "225"
       ]
      },
      {
       "output_type": "stream",
       "stream": "stdout",
       "text": [
        "\n",
        "226"
       ]
      },
      {
       "output_type": "stream",
       "stream": "stdout",
       "text": [
        "\n",
        "227"
       ]
      },
      {
       "output_type": "stream",
       "stream": "stdout",
       "text": [
        "\n",
        "228"
       ]
      },
      {
       "output_type": "stream",
       "stream": "stdout",
       "text": [
        "\n",
        "229"
       ]
      },
      {
       "output_type": "stream",
       "stream": "stdout",
       "text": [
        "\n",
        "230"
       ]
      },
      {
       "output_type": "stream",
       "stream": "stdout",
       "text": [
        "\n",
        "231"
       ]
      },
      {
       "output_type": "stream",
       "stream": "stdout",
       "text": [
        "\n",
        "232"
       ]
      },
      {
       "output_type": "stream",
       "stream": "stdout",
       "text": [
        "\n",
        "233"
       ]
      },
      {
       "output_type": "stream",
       "stream": "stdout",
       "text": [
        "\n",
        "234"
       ]
      },
      {
       "output_type": "stream",
       "stream": "stdout",
       "text": [
        "\n",
        "235"
       ]
      },
      {
       "output_type": "stream",
       "stream": "stdout",
       "text": [
        "\n",
        "236"
       ]
      },
      {
       "output_type": "stream",
       "stream": "stdout",
       "text": [
        "\n",
        "237"
       ]
      },
      {
       "output_type": "stream",
       "stream": "stdout",
       "text": [
        "\n",
        "238"
       ]
      },
      {
       "output_type": "stream",
       "stream": "stdout",
       "text": [
        "\n",
        "239"
       ]
      },
      {
       "output_type": "stream",
       "stream": "stdout",
       "text": [
        "\n",
        "240"
       ]
      },
      {
       "output_type": "stream",
       "stream": "stdout",
       "text": [
        "\n",
        "241"
       ]
      },
      {
       "output_type": "stream",
       "stream": "stdout",
       "text": [
        "\n",
        "242"
       ]
      },
      {
       "output_type": "stream",
       "stream": "stdout",
       "text": [
        "\n",
        "243"
       ]
      },
      {
       "output_type": "stream",
       "stream": "stdout",
       "text": [
        "\n",
        "244"
       ]
      },
      {
       "output_type": "stream",
       "stream": "stdout",
       "text": [
        "\n",
        "245"
       ]
      },
      {
       "output_type": "stream",
       "stream": "stdout",
       "text": [
        "\n",
        "246"
       ]
      },
      {
       "output_type": "stream",
       "stream": "stdout",
       "text": [
        "\n",
        "247"
       ]
      },
      {
       "output_type": "stream",
       "stream": "stdout",
       "text": [
        "\n",
        "248"
       ]
      },
      {
       "output_type": "stream",
       "stream": "stdout",
       "text": [
        "\n",
        "249"
       ]
      },
      {
       "output_type": "stream",
       "stream": "stdout",
       "text": [
        "\n",
        "250"
       ]
      },
      {
       "output_type": "stream",
       "stream": "stdout",
       "text": [
        "\n",
        "251"
       ]
      },
      {
       "output_type": "stream",
       "stream": "stdout",
       "text": [
        "\n",
        "252"
       ]
      },
      {
       "output_type": "stream",
       "stream": "stdout",
       "text": [
        "\n",
        "253"
       ]
      },
      {
       "output_type": "stream",
       "stream": "stdout",
       "text": [
        "\n",
        "254"
       ]
      },
      {
       "output_type": "stream",
       "stream": "stdout",
       "text": [
        "\n",
        "255"
       ]
      },
      {
       "output_type": "stream",
       "stream": "stdout",
       "text": [
        "\n",
        "256"
       ]
      },
      {
       "output_type": "stream",
       "stream": "stdout",
       "text": [
        "\n",
        "257"
       ]
      },
      {
       "output_type": "stream",
       "stream": "stdout",
       "text": [
        "\n",
        "258"
       ]
      },
      {
       "output_type": "stream",
       "stream": "stdout",
       "text": [
        "\n",
        "259"
       ]
      },
      {
       "output_type": "stream",
       "stream": "stdout",
       "text": [
        "\n",
        "260"
       ]
      },
      {
       "output_type": "stream",
       "stream": "stdout",
       "text": [
        "\n",
        "261"
       ]
      },
      {
       "output_type": "stream",
       "stream": "stdout",
       "text": [
        "\n",
        "262"
       ]
      },
      {
       "output_type": "stream",
       "stream": "stdout",
       "text": [
        "\n",
        "263"
       ]
      },
      {
       "output_type": "stream",
       "stream": "stdout",
       "text": [
        "\n",
        "264"
       ]
      },
      {
       "output_type": "stream",
       "stream": "stdout",
       "text": [
        "\n",
        "265"
       ]
      },
      {
       "output_type": "stream",
       "stream": "stdout",
       "text": [
        "\n",
        "266"
       ]
      },
      {
       "output_type": "stream",
       "stream": "stdout",
       "text": [
        "\n",
        "267"
       ]
      },
      {
       "output_type": "stream",
       "stream": "stdout",
       "text": [
        "\n",
        "268"
       ]
      },
      {
       "output_type": "stream",
       "stream": "stdout",
       "text": [
        "\n",
        "269"
       ]
      },
      {
       "output_type": "stream",
       "stream": "stdout",
       "text": [
        "\n",
        "270"
       ]
      },
      {
       "output_type": "stream",
       "stream": "stdout",
       "text": [
        "\n",
        "271"
       ]
      },
      {
       "output_type": "stream",
       "stream": "stdout",
       "text": [
        "\n",
        "272"
       ]
      },
      {
       "output_type": "stream",
       "stream": "stdout",
       "text": [
        "\n",
        "273"
       ]
      },
      {
       "output_type": "stream",
       "stream": "stdout",
       "text": [
        "\n",
        "274"
       ]
      },
      {
       "output_type": "stream",
       "stream": "stdout",
       "text": [
        "\n",
        "275"
       ]
      },
      {
       "output_type": "stream",
       "stream": "stdout",
       "text": [
        "\n",
        "276"
       ]
      },
      {
       "output_type": "stream",
       "stream": "stdout",
       "text": [
        "\n",
        "277"
       ]
      },
      {
       "output_type": "stream",
       "stream": "stdout",
       "text": [
        "\n",
        "278"
       ]
      },
      {
       "output_type": "stream",
       "stream": "stdout",
       "text": [
        "\n",
        "279"
       ]
      },
      {
       "output_type": "stream",
       "stream": "stdout",
       "text": [
        "\n",
        "280"
       ]
      },
      {
       "output_type": "stream",
       "stream": "stdout",
       "text": [
        "\n",
        "281"
       ]
      },
      {
       "output_type": "stream",
       "stream": "stdout",
       "text": [
        "\n",
        "282"
       ]
      },
      {
       "output_type": "stream",
       "stream": "stdout",
       "text": [
        "\n",
        "283"
       ]
      },
      {
       "output_type": "stream",
       "stream": "stdout",
       "text": [
        "\n",
        "284"
       ]
      },
      {
       "output_type": "stream",
       "stream": "stdout",
       "text": [
        "\n",
        "285"
       ]
      },
      {
       "output_type": "stream",
       "stream": "stdout",
       "text": [
        "\n",
        "286"
       ]
      },
      {
       "output_type": "stream",
       "stream": "stdout",
       "text": [
        "\n",
        "287"
       ]
      },
      {
       "output_type": "stream",
       "stream": "stdout",
       "text": [
        "\n",
        "288"
       ]
      },
      {
       "output_type": "stream",
       "stream": "stdout",
       "text": [
        "\n",
        "289"
       ]
      },
      {
       "output_type": "stream",
       "stream": "stdout",
       "text": [
        "\n",
        "290"
       ]
      },
      {
       "output_type": "stream",
       "stream": "stdout",
       "text": [
        "\n",
        "291"
       ]
      },
      {
       "output_type": "stream",
       "stream": "stdout",
       "text": [
        "\n",
        "292"
       ]
      },
      {
       "output_type": "stream",
       "stream": "stdout",
       "text": [
        "\n",
        "293"
       ]
      },
      {
       "output_type": "stream",
       "stream": "stdout",
       "text": [
        "\n",
        "294"
       ]
      },
      {
       "output_type": "stream",
       "stream": "stdout",
       "text": [
        "\n",
        "295"
       ]
      },
      {
       "output_type": "stream",
       "stream": "stdout",
       "text": [
        "\n",
        "296"
       ]
      },
      {
       "output_type": "stream",
       "stream": "stdout",
       "text": [
        "\n",
        "297"
       ]
      },
      {
       "output_type": "stream",
       "stream": "stdout",
       "text": [
        "\n",
        "298"
       ]
      },
      {
       "output_type": "stream",
       "stream": "stdout",
       "text": [
        "\n",
        "299"
       ]
      },
      {
       "output_type": "stream",
       "stream": "stdout",
       "text": [
        "\n",
        "300"
       ]
      },
      {
       "output_type": "stream",
       "stream": "stdout",
       "text": [
        "\n",
        "301"
       ]
      },
      {
       "output_type": "stream",
       "stream": "stdout",
       "text": [
        "\n",
        "302"
       ]
      },
      {
       "output_type": "stream",
       "stream": "stdout",
       "text": [
        "\n",
        "303"
       ]
      },
      {
       "output_type": "stream",
       "stream": "stdout",
       "text": [
        "\n",
        "304"
       ]
      },
      {
       "output_type": "stream",
       "stream": "stdout",
       "text": [
        "\n",
        "305"
       ]
      },
      {
       "output_type": "stream",
       "stream": "stdout",
       "text": [
        "\n",
        "306"
       ]
      },
      {
       "output_type": "stream",
       "stream": "stdout",
       "text": [
        "\n",
        "307"
       ]
      },
      {
       "output_type": "stream",
       "stream": "stdout",
       "text": [
        "\n",
        "308"
       ]
      },
      {
       "output_type": "stream",
       "stream": "stdout",
       "text": [
        "\n",
        "309"
       ]
      },
      {
       "output_type": "stream",
       "stream": "stdout",
       "text": [
        "\n",
        "310"
       ]
      },
      {
       "output_type": "stream",
       "stream": "stdout",
       "text": [
        "\n",
        "311"
       ]
      },
      {
       "output_type": "stream",
       "stream": "stdout",
       "text": [
        "\n",
        "312"
       ]
      },
      {
       "output_type": "stream",
       "stream": "stdout",
       "text": [
        "\n",
        "313"
       ]
      },
      {
       "output_type": "stream",
       "stream": "stdout",
       "text": [
        "\n",
        "314"
       ]
      },
      {
       "output_type": "stream",
       "stream": "stdout",
       "text": [
        "\n",
        "315"
       ]
      },
      {
       "output_type": "stream",
       "stream": "stdout",
       "text": [
        "\n",
        "316"
       ]
      },
      {
       "output_type": "stream",
       "stream": "stdout",
       "text": [
        "\n",
        "317"
       ]
      },
      {
       "output_type": "stream",
       "stream": "stdout",
       "text": [
        "\n",
        "318"
       ]
      },
      {
       "output_type": "stream",
       "stream": "stdout",
       "text": [
        "\n",
        "319"
       ]
      },
      {
       "output_type": "stream",
       "stream": "stdout",
       "text": [
        "\n",
        "320"
       ]
      },
      {
       "output_type": "stream",
       "stream": "stdout",
       "text": [
        "\n",
        "321"
       ]
      },
      {
       "output_type": "stream",
       "stream": "stdout",
       "text": [
        "\n",
        "322"
       ]
      },
      {
       "output_type": "stream",
       "stream": "stdout",
       "text": [
        "\n",
        "323"
       ]
      },
      {
       "output_type": "stream",
       "stream": "stdout",
       "text": [
        "\n",
        "324"
       ]
      },
      {
       "output_type": "stream",
       "stream": "stdout",
       "text": [
        "\n",
        "325"
       ]
      },
      {
       "output_type": "stream",
       "stream": "stdout",
       "text": [
        "\n",
        "326"
       ]
      },
      {
       "output_type": "stream",
       "stream": "stdout",
       "text": [
        "\n",
        "327"
       ]
      },
      {
       "output_type": "stream",
       "stream": "stdout",
       "text": [
        "\n",
        "328"
       ]
      },
      {
       "output_type": "stream",
       "stream": "stdout",
       "text": [
        "\n",
        "329"
       ]
      },
      {
       "output_type": "stream",
       "stream": "stdout",
       "text": [
        "\n",
        "330"
       ]
      },
      {
       "output_type": "stream",
       "stream": "stdout",
       "text": [
        "\n",
        "331"
       ]
      },
      {
       "output_type": "stream",
       "stream": "stdout",
       "text": [
        "\n",
        "332"
       ]
      },
      {
       "output_type": "stream",
       "stream": "stdout",
       "text": [
        "\n",
        "333"
       ]
      },
      {
       "output_type": "stream",
       "stream": "stdout",
       "text": [
        "\n",
        "334"
       ]
      },
      {
       "output_type": "stream",
       "stream": "stdout",
       "text": [
        "\n",
        "335"
       ]
      },
      {
       "output_type": "stream",
       "stream": "stdout",
       "text": [
        "\n",
        "336"
       ]
      },
      {
       "output_type": "stream",
       "stream": "stdout",
       "text": [
        "\n",
        "337"
       ]
      },
      {
       "output_type": "stream",
       "stream": "stdout",
       "text": [
        "\n",
        "338"
       ]
      },
      {
       "output_type": "stream",
       "stream": "stdout",
       "text": [
        "\n",
        "339"
       ]
      },
      {
       "output_type": "stream",
       "stream": "stdout",
       "text": [
        "\n",
        "340"
       ]
      },
      {
       "output_type": "stream",
       "stream": "stdout",
       "text": [
        "\n",
        "341"
       ]
      },
      {
       "output_type": "stream",
       "stream": "stdout",
       "text": [
        "\n",
        "342"
       ]
      },
      {
       "output_type": "stream",
       "stream": "stdout",
       "text": [
        "\n",
        "343"
       ]
      },
      {
       "output_type": "stream",
       "stream": "stdout",
       "text": [
        "\n",
        "344"
       ]
      },
      {
       "output_type": "stream",
       "stream": "stdout",
       "text": [
        "\n",
        "345"
       ]
      },
      {
       "output_type": "stream",
       "stream": "stdout",
       "text": [
        "\n",
        "346"
       ]
      },
      {
       "output_type": "stream",
       "stream": "stdout",
       "text": [
        "\n",
        "347"
       ]
      },
      {
       "output_type": "stream",
       "stream": "stdout",
       "text": [
        "\n",
        "348"
       ]
      },
      {
       "output_type": "stream",
       "stream": "stdout",
       "text": [
        "\n",
        "349"
       ]
      },
      {
       "output_type": "stream",
       "stream": "stdout",
       "text": [
        "\n",
        "350"
       ]
      },
      {
       "output_type": "stream",
       "stream": "stdout",
       "text": [
        "\n",
        "351"
       ]
      },
      {
       "output_type": "stream",
       "stream": "stdout",
       "text": [
        "\n",
        "352"
       ]
      },
      {
       "output_type": "stream",
       "stream": "stdout",
       "text": [
        "\n",
        "353"
       ]
      },
      {
       "output_type": "stream",
       "stream": "stdout",
       "text": [
        "\n",
        "354"
       ]
      },
      {
       "output_type": "stream",
       "stream": "stdout",
       "text": [
        "\n",
        "355"
       ]
      },
      {
       "output_type": "stream",
       "stream": "stdout",
       "text": [
        "\n",
        "356"
       ]
      },
      {
       "output_type": "stream",
       "stream": "stdout",
       "text": [
        "\n",
        "357"
       ]
      },
      {
       "output_type": "stream",
       "stream": "stdout",
       "text": [
        "\n",
        "358"
       ]
      },
      {
       "output_type": "stream",
       "stream": "stdout",
       "text": [
        "\n",
        "359"
       ]
      },
      {
       "output_type": "stream",
       "stream": "stdout",
       "text": [
        "\n",
        "360"
       ]
      },
      {
       "output_type": "stream",
       "stream": "stdout",
       "text": [
        "\n",
        "361"
       ]
      },
      {
       "output_type": "stream",
       "stream": "stdout",
       "text": [
        "\n",
        "362"
       ]
      },
      {
       "output_type": "stream",
       "stream": "stdout",
       "text": [
        "\n",
        "363"
       ]
      },
      {
       "output_type": "stream",
       "stream": "stdout",
       "text": [
        "\n",
        "364"
       ]
      },
      {
       "output_type": "stream",
       "stream": "stdout",
       "text": [
        "\n",
        "365"
       ]
      },
      {
       "output_type": "stream",
       "stream": "stdout",
       "text": [
        "\n",
        "366"
       ]
      },
      {
       "output_type": "stream",
       "stream": "stdout",
       "text": [
        "\n",
        "367"
       ]
      },
      {
       "output_type": "stream",
       "stream": "stdout",
       "text": [
        "\n",
        "368"
       ]
      },
      {
       "output_type": "stream",
       "stream": "stdout",
       "text": [
        "\n",
        "369"
       ]
      },
      {
       "output_type": "stream",
       "stream": "stdout",
       "text": [
        "\n",
        "370"
       ]
      },
      {
       "output_type": "stream",
       "stream": "stdout",
       "text": [
        "\n",
        "371"
       ]
      },
      {
       "output_type": "stream",
       "stream": "stdout",
       "text": [
        "\n",
        "372"
       ]
      },
      {
       "output_type": "stream",
       "stream": "stdout",
       "text": [
        "\n",
        "373"
       ]
      },
      {
       "output_type": "stream",
       "stream": "stdout",
       "text": [
        "\n",
        "374"
       ]
      },
      {
       "output_type": "stream",
       "stream": "stdout",
       "text": [
        "\n",
        "375"
       ]
      },
      {
       "output_type": "stream",
       "stream": "stdout",
       "text": [
        "\n",
        "376"
       ]
      },
      {
       "output_type": "stream",
       "stream": "stdout",
       "text": [
        "\n",
        "377"
       ]
      },
      {
       "output_type": "stream",
       "stream": "stdout",
       "text": [
        "\n",
        "378"
       ]
      },
      {
       "output_type": "stream",
       "stream": "stdout",
       "text": [
        "\n",
        "379"
       ]
      },
      {
       "output_type": "stream",
       "stream": "stdout",
       "text": [
        "\n",
        "380"
       ]
      },
      {
       "output_type": "stream",
       "stream": "stdout",
       "text": [
        "\n",
        "381"
       ]
      },
      {
       "output_type": "stream",
       "stream": "stdout",
       "text": [
        "\n",
        "382"
       ]
      },
      {
       "output_type": "stream",
       "stream": "stdout",
       "text": [
        "\n",
        "383"
       ]
      },
      {
       "output_type": "stream",
       "stream": "stdout",
       "text": [
        "\n",
        "384"
       ]
      },
      {
       "output_type": "stream",
       "stream": "stdout",
       "text": [
        "\n",
        "385"
       ]
      },
      {
       "output_type": "stream",
       "stream": "stdout",
       "text": [
        "\n",
        "386"
       ]
      },
      {
       "output_type": "stream",
       "stream": "stdout",
       "text": [
        "\n",
        "387"
       ]
      },
      {
       "output_type": "stream",
       "stream": "stdout",
       "text": [
        "\n",
        "388"
       ]
      },
      {
       "output_type": "stream",
       "stream": "stdout",
       "text": [
        "\n",
        "389"
       ]
      },
      {
       "output_type": "stream",
       "stream": "stdout",
       "text": [
        "\n",
        "390"
       ]
      },
      {
       "output_type": "stream",
       "stream": "stdout",
       "text": [
        "\n",
        "391"
       ]
      },
      {
       "output_type": "stream",
       "stream": "stdout",
       "text": [
        "\n",
        "392"
       ]
      },
      {
       "output_type": "stream",
       "stream": "stdout",
       "text": [
        "\n",
        "393"
       ]
      },
      {
       "output_type": "stream",
       "stream": "stdout",
       "text": [
        "\n",
        "394"
       ]
      },
      {
       "output_type": "stream",
       "stream": "stdout",
       "text": [
        "\n",
        "395"
       ]
      },
      {
       "output_type": "stream",
       "stream": "stdout",
       "text": [
        "\n",
        "396"
       ]
      },
      {
       "output_type": "stream",
       "stream": "stdout",
       "text": [
        "\n",
        "397"
       ]
      },
      {
       "output_type": "stream",
       "stream": "stdout",
       "text": [
        "\n",
        "398"
       ]
      },
      {
       "output_type": "stream",
       "stream": "stdout",
       "text": [
        "\n",
        "399"
       ]
      },
      {
       "output_type": "stream",
       "stream": "stdout",
       "text": [
        "\n",
        "400"
       ]
      },
      {
       "output_type": "stream",
       "stream": "stdout",
       "text": [
        "\n",
        "401"
       ]
      },
      {
       "output_type": "stream",
       "stream": "stdout",
       "text": [
        "\n",
        "402"
       ]
      },
      {
       "output_type": "stream",
       "stream": "stdout",
       "text": [
        "\n",
        "403"
       ]
      },
      {
       "output_type": "stream",
       "stream": "stdout",
       "text": [
        "\n",
        "404"
       ]
      },
      {
       "output_type": "stream",
       "stream": "stdout",
       "text": [
        "\n",
        "405"
       ]
      },
      {
       "output_type": "stream",
       "stream": "stdout",
       "text": [
        "\n",
        "406"
       ]
      },
      {
       "output_type": "stream",
       "stream": "stdout",
       "text": [
        "\n",
        "407"
       ]
      },
      {
       "output_type": "stream",
       "stream": "stdout",
       "text": [
        "\n",
        "408"
       ]
      },
      {
       "output_type": "stream",
       "stream": "stdout",
       "text": [
        "\n",
        "409"
       ]
      },
      {
       "output_type": "stream",
       "stream": "stdout",
       "text": [
        "\n",
        "410"
       ]
      },
      {
       "output_type": "stream",
       "stream": "stdout",
       "text": [
        "\n",
        "411"
       ]
      },
      {
       "output_type": "stream",
       "stream": "stdout",
       "text": [
        "\n",
        "412"
       ]
      },
      {
       "output_type": "stream",
       "stream": "stdout",
       "text": [
        "\n",
        "413"
       ]
      },
      {
       "output_type": "stream",
       "stream": "stdout",
       "text": [
        "\n",
        "414"
       ]
      },
      {
       "output_type": "stream",
       "stream": "stdout",
       "text": [
        "\n",
        "415"
       ]
      },
      {
       "output_type": "stream",
       "stream": "stdout",
       "text": [
        "\n",
        "416"
       ]
      },
      {
       "output_type": "stream",
       "stream": "stdout",
       "text": [
        "\n",
        "417"
       ]
      },
      {
       "output_type": "stream",
       "stream": "stdout",
       "text": [
        "\n",
        "418"
       ]
      },
      {
       "output_type": "stream",
       "stream": "stdout",
       "text": [
        "\n",
        "419"
       ]
      },
      {
       "output_type": "stream",
       "stream": "stdout",
       "text": [
        "\n",
        "420"
       ]
      },
      {
       "output_type": "stream",
       "stream": "stdout",
       "text": [
        "\n",
        "421"
       ]
      },
      {
       "output_type": "stream",
       "stream": "stdout",
       "text": [
        "\n",
        "422"
       ]
      },
      {
       "output_type": "stream",
       "stream": "stdout",
       "text": [
        "\n",
        "423"
       ]
      },
      {
       "output_type": "stream",
       "stream": "stdout",
       "text": [
        "\n",
        "424"
       ]
      },
      {
       "output_type": "stream",
       "stream": "stdout",
       "text": [
        "\n",
        "425"
       ]
      },
      {
       "output_type": "stream",
       "stream": "stdout",
       "text": [
        "\n",
        "426"
       ]
      },
      {
       "output_type": "stream",
       "stream": "stdout",
       "text": [
        "\n",
        "427"
       ]
      },
      {
       "output_type": "stream",
       "stream": "stdout",
       "text": [
        "\n",
        "428"
       ]
      },
      {
       "output_type": "stream",
       "stream": "stdout",
       "text": [
        "\n",
        "429"
       ]
      },
      {
       "output_type": "stream",
       "stream": "stdout",
       "text": [
        "\n",
        "430"
       ]
      },
      {
       "output_type": "stream",
       "stream": "stdout",
       "text": [
        "\n",
        "431"
       ]
      },
      {
       "output_type": "stream",
       "stream": "stdout",
       "text": [
        "\n",
        "432"
       ]
      },
      {
       "output_type": "stream",
       "stream": "stdout",
       "text": [
        "\n",
        "433"
       ]
      },
      {
       "output_type": "stream",
       "stream": "stdout",
       "text": [
        "\n",
        "434"
       ]
      },
      {
       "output_type": "stream",
       "stream": "stdout",
       "text": [
        "\n",
        "435"
       ]
      },
      {
       "output_type": "stream",
       "stream": "stdout",
       "text": [
        "\n",
        "436"
       ]
      },
      {
       "output_type": "stream",
       "stream": "stdout",
       "text": [
        "\n",
        "437"
       ]
      },
      {
       "output_type": "stream",
       "stream": "stdout",
       "text": [
        "\n",
        "438"
       ]
      },
      {
       "output_type": "stream",
       "stream": "stdout",
       "text": [
        "\n",
        "439"
       ]
      },
      {
       "output_type": "stream",
       "stream": "stdout",
       "text": [
        "\n",
        "440"
       ]
      },
      {
       "output_type": "stream",
       "stream": "stdout",
       "text": [
        "\n",
        "441"
       ]
      },
      {
       "output_type": "stream",
       "stream": "stdout",
       "text": [
        "\n",
        "442"
       ]
      },
      {
       "output_type": "stream",
       "stream": "stdout",
       "text": [
        "\n",
        "443"
       ]
      },
      {
       "output_type": "stream",
       "stream": "stdout",
       "text": [
        "\n",
        "444"
       ]
      },
      {
       "output_type": "stream",
       "stream": "stdout",
       "text": [
        "\n",
        "445"
       ]
      },
      {
       "output_type": "stream",
       "stream": "stdout",
       "text": [
        "\n",
        "446"
       ]
      },
      {
       "output_type": "stream",
       "stream": "stdout",
       "text": [
        "\n",
        "447"
       ]
      },
      {
       "output_type": "stream",
       "stream": "stdout",
       "text": [
        "\n",
        "448"
       ]
      },
      {
       "output_type": "stream",
       "stream": "stdout",
       "text": [
        "\n",
        "449"
       ]
      },
      {
       "output_type": "stream",
       "stream": "stdout",
       "text": [
        "\n",
        "450"
       ]
      },
      {
       "output_type": "stream",
       "stream": "stdout",
       "text": [
        "\n",
        "451"
       ]
      },
      {
       "output_type": "stream",
       "stream": "stdout",
       "text": [
        "\n",
        "452"
       ]
      },
      {
       "output_type": "stream",
       "stream": "stdout",
       "text": [
        "\n",
        "453"
       ]
      },
      {
       "output_type": "stream",
       "stream": "stdout",
       "text": [
        "\n",
        "454"
       ]
      },
      {
       "output_type": "stream",
       "stream": "stdout",
       "text": [
        "\n",
        "455"
       ]
      },
      {
       "output_type": "stream",
       "stream": "stdout",
       "text": [
        "\n",
        "456"
       ]
      },
      {
       "output_type": "stream",
       "stream": "stdout",
       "text": [
        "\n",
        "457"
       ]
      },
      {
       "output_type": "stream",
       "stream": "stdout",
       "text": [
        "\n",
        "458"
       ]
      },
      {
       "output_type": "stream",
       "stream": "stdout",
       "text": [
        "\n",
        "459"
       ]
      },
      {
       "output_type": "stream",
       "stream": "stdout",
       "text": [
        "\n",
        "460"
       ]
      },
      {
       "output_type": "stream",
       "stream": "stdout",
       "text": [
        "\n",
        "461"
       ]
      },
      {
       "output_type": "stream",
       "stream": "stdout",
       "text": [
        "\n",
        "462"
       ]
      },
      {
       "output_type": "stream",
       "stream": "stdout",
       "text": [
        "\n",
        "463"
       ]
      },
      {
       "output_type": "stream",
       "stream": "stdout",
       "text": [
        "\n",
        "464"
       ]
      },
      {
       "output_type": "stream",
       "stream": "stdout",
       "text": [
        "\n",
        "465"
       ]
      },
      {
       "output_type": "stream",
       "stream": "stdout",
       "text": [
        "\n",
        "466"
       ]
      },
      {
       "output_type": "stream",
       "stream": "stdout",
       "text": [
        "\n",
        "467"
       ]
      },
      {
       "output_type": "stream",
       "stream": "stdout",
       "text": [
        "\n",
        "468"
       ]
      },
      {
       "output_type": "stream",
       "stream": "stdout",
       "text": [
        "\n",
        "469"
       ]
      },
      {
       "output_type": "stream",
       "stream": "stdout",
       "text": [
        "\n",
        "470"
       ]
      },
      {
       "output_type": "stream",
       "stream": "stdout",
       "text": [
        "\n",
        "471"
       ]
      },
      {
       "output_type": "stream",
       "stream": "stdout",
       "text": [
        "\n",
        "472"
       ]
      },
      {
       "output_type": "stream",
       "stream": "stdout",
       "text": [
        "\n"
       ]
      },
      {
       "ename": "KeyboardInterrupt",
       "evalue": "",
       "output_type": "pyerr",
       "traceback": [
        "\u001b[0;31m---------------------------------------------------------------------------\u001b[0m\n\u001b[0;31mKeyboardInterrupt\u001b[0m                         Traceback (most recent call last)",
        "\u001b[0;32m<ipython-input-196-8407c9b549aa>\u001b[0m in \u001b[0;36m<module>\u001b[0;34m()\u001b[0m\n\u001b[1;32m     20\u001b[0m             \u001b[0mtext1\u001b[0m \u001b[0;34m=\u001b[0m \u001b[0mbills_list\u001b[0m\u001b[0;34m[\u001b[0m\u001b[0mj\u001b[0m\u001b[0;34m]\u001b[0m\u001b[0;34m.\u001b[0m\u001b[0msplit\u001b[0m\u001b[0;34m(\u001b[0m\u001b[0;34m)\u001b[0m\u001b[0;34m\u001b[0m\u001b[0m\n\u001b[1;32m     21\u001b[0m             \u001b[0mtext2\u001b[0m \u001b[0;34m=\u001b[0m \u001b[0mbills_list\u001b[0m\u001b[0;34m[\u001b[0m\u001b[0mk\u001b[0m\u001b[0;34m]\u001b[0m\u001b[0;34m.\u001b[0m\u001b[0msplit\u001b[0m\u001b[0;34m(\u001b[0m\u001b[0;34m)\u001b[0m\u001b[0;34m\u001b[0m\u001b[0m\n\u001b[0;32m---> 22\u001b[0;31m             \u001b[0mv1\u001b[0m\u001b[0;34m,\u001b[0m\u001b[0mv2\u001b[0m\u001b[0;34m=\u001b[0m \u001b[0mbuildVector\u001b[0m\u001b[0;34m(\u001b[0m\u001b[0mtext1\u001b[0m\u001b[0;34m,\u001b[0m \u001b[0mtext2\u001b[0m\u001b[0;34m)\u001b[0m\u001b[0;34m\u001b[0m\u001b[0m\n\u001b[0m\u001b[1;32m     23\u001b[0m             \u001b[0mcos\u001b[0m \u001b[0;34m=\u001b[0m \u001b[0mcosim\u001b[0m\u001b[0;34m(\u001b[0m\u001b[0mv1\u001b[0m\u001b[0;34m,\u001b[0m \u001b[0mv2\u001b[0m\u001b[0;34m)\u001b[0m\u001b[0;34m\u001b[0m\u001b[0m\n\u001b[1;32m     24\u001b[0m             \u001b[0mtemp\u001b[0m\u001b[0;34m.\u001b[0m\u001b[0mappend\u001b[0m\u001b[0;34m(\u001b[0m\u001b[0mcos\u001b[0m\u001b[0;34m)\u001b[0m\u001b[0;34m\u001b[0m\u001b[0m\n",
        "\u001b[0;32m<ipython-input-93-b162bbd281e1>\u001b[0m in \u001b[0;36mbuildVector\u001b[0;34m(iterable1, iterable2)\u001b[0m\n\u001b[1;32m      1\u001b[0m \u001b[0;32mdef\u001b[0m \u001b[0mbuildVector\u001b[0m\u001b[0;34m(\u001b[0m\u001b[0miterable1\u001b[0m\u001b[0;34m,\u001b[0m \u001b[0miterable2\u001b[0m\u001b[0;34m)\u001b[0m\u001b[0;34m:\u001b[0m\u001b[0;34m\u001b[0m\u001b[0m\n\u001b[1;32m      2\u001b[0m     \u001b[0mcounter1\u001b[0m \u001b[0;34m=\u001b[0m \u001b[0mCounter\u001b[0m\u001b[0;34m(\u001b[0m\u001b[0miterable1\u001b[0m\u001b[0;34m)\u001b[0m\u001b[0;34m\u001b[0m\u001b[0m\n\u001b[0;32m----> 3\u001b[0;31m     \u001b[0mcounter2\u001b[0m\u001b[0;34m=\u001b[0m \u001b[0mCounter\u001b[0m\u001b[0;34m(\u001b[0m\u001b[0miterable2\u001b[0m\u001b[0;34m)\u001b[0m\u001b[0;34m\u001b[0m\u001b[0m\n\u001b[0m\u001b[1;32m      4\u001b[0m     \u001b[0mall_items\u001b[0m \u001b[0;34m=\u001b[0m \u001b[0mset\u001b[0m\u001b[0;34m(\u001b[0m\u001b[0mcounter1\u001b[0m\u001b[0;34m.\u001b[0m\u001b[0mkeys\u001b[0m\u001b[0;34m(\u001b[0m\u001b[0;34m)\u001b[0m\u001b[0;34m)\u001b[0m\u001b[0;34m.\u001b[0m\u001b[0munion\u001b[0m\u001b[0;34m(\u001b[0m \u001b[0mset\u001b[0m\u001b[0;34m(\u001b[0m\u001b[0mcounter2\u001b[0m\u001b[0;34m.\u001b[0m\u001b[0mkeys\u001b[0m\u001b[0;34m(\u001b[0m\u001b[0;34m)\u001b[0m\u001b[0;34m)\u001b[0m \u001b[0;34m)\u001b[0m\u001b[0;34m\u001b[0m\u001b[0m\n\u001b[1;32m      5\u001b[0m     \u001b[0mvector1\u001b[0m \u001b[0;34m=\u001b[0m \u001b[0;34m[\u001b[0m\u001b[0mcounter1\u001b[0m\u001b[0;34m[\u001b[0m\u001b[0mk\u001b[0m\u001b[0;34m]\u001b[0m \u001b[0;32mfor\u001b[0m \u001b[0mk\u001b[0m \u001b[0;32min\u001b[0m \u001b[0mall_items\u001b[0m\u001b[0;34m]\u001b[0m\u001b[0;34m\u001b[0m\u001b[0m\n",
        "\u001b[0;32m/System/Library/Frameworks/Python.framework/Versions/2.7/lib/python2.7/collections.pyc\u001b[0m in \u001b[0;36m__init__\u001b[0;34m(self, iterable, **kwds)\u001b[0m\n\u001b[1;32m    448\u001b[0m         '''\n\u001b[1;32m    449\u001b[0m         \u001b[0msuper\u001b[0m\u001b[0;34m(\u001b[0m\u001b[0mCounter\u001b[0m\u001b[0;34m,\u001b[0m \u001b[0mself\u001b[0m\u001b[0;34m)\u001b[0m\u001b[0;34m.\u001b[0m\u001b[0m__init__\u001b[0m\u001b[0;34m(\u001b[0m\u001b[0;34m)\u001b[0m\u001b[0;34m\u001b[0m\u001b[0m\n\u001b[0;32m--> 450\u001b[0;31m         \u001b[0mself\u001b[0m\u001b[0;34m.\u001b[0m\u001b[0mupdate\u001b[0m\u001b[0;34m(\u001b[0m\u001b[0miterable\u001b[0m\u001b[0;34m,\u001b[0m \u001b[0;34m**\u001b[0m\u001b[0mkwds\u001b[0m\u001b[0;34m)\u001b[0m\u001b[0;34m\u001b[0m\u001b[0m\n\u001b[0m\u001b[1;32m    451\u001b[0m \u001b[0;34m\u001b[0m\u001b[0m\n\u001b[1;32m    452\u001b[0m     \u001b[0;32mdef\u001b[0m \u001b[0m__missing__\u001b[0m\u001b[0;34m(\u001b[0m\u001b[0mself\u001b[0m\u001b[0;34m,\u001b[0m \u001b[0mkey\u001b[0m\u001b[0;34m)\u001b[0m\u001b[0;34m:\u001b[0m\u001b[0;34m\u001b[0m\u001b[0m\n",
        "\u001b[0;32m/System/Library/Frameworks/Python.framework/Versions/2.7/lib/python2.7/collections.pyc\u001b[0m in \u001b[0;36mupdate\u001b[0;34m(self, iterable, **kwds)\u001b[0m\n\u001b[1;32m    530\u001b[0m                 \u001b[0mself_get\u001b[0m \u001b[0;34m=\u001b[0m \u001b[0mself\u001b[0m\u001b[0;34m.\u001b[0m\u001b[0mget\u001b[0m\u001b[0;34m\u001b[0m\u001b[0m\n\u001b[1;32m    531\u001b[0m                 \u001b[0;32mfor\u001b[0m \u001b[0melem\u001b[0m \u001b[0;32min\u001b[0m \u001b[0miterable\u001b[0m\u001b[0;34m:\u001b[0m\u001b[0;34m\u001b[0m\u001b[0m\n\u001b[0;32m--> 532\u001b[0;31m                     \u001b[0mself\u001b[0m\u001b[0;34m[\u001b[0m\u001b[0melem\u001b[0m\u001b[0;34m]\u001b[0m \u001b[0;34m=\u001b[0m \u001b[0mself_get\u001b[0m\u001b[0;34m(\u001b[0m\u001b[0melem\u001b[0m\u001b[0;34m,\u001b[0m \u001b[0;36m0\u001b[0m\u001b[0;34m)\u001b[0m \u001b[0;34m+\u001b[0m \u001b[0;36m1\u001b[0m\u001b[0;34m\u001b[0m\u001b[0m\n\u001b[0m\u001b[1;32m    533\u001b[0m         \u001b[0;32mif\u001b[0m \u001b[0mkwds\u001b[0m\u001b[0;34m:\u001b[0m\u001b[0;34m\u001b[0m\u001b[0m\n\u001b[1;32m    534\u001b[0m             \u001b[0mself\u001b[0m\u001b[0;34m.\u001b[0m\u001b[0mupdate\u001b[0m\u001b[0;34m(\u001b[0m\u001b[0mkwds\u001b[0m\u001b[0;34m)\u001b[0m\u001b[0;34m\u001b[0m\u001b[0m\n",
        "\u001b[0;31mKeyboardInterrupt\u001b[0m: "
       ]
      }
     ],
     "prompt_number": 196
    },
    {
     "cell_type": "code",
     "collapsed": false,
     "input": [
      "print len(cosine_values)"
     ],
     "language": "python",
     "metadata": {},
     "outputs": [
      {
       "output_type": "stream",
       "stream": "stdout",
       "text": [
        "472\n"
       ]
      }
     ],
     "prompt_number": 197
    },
    {
     "cell_type": "code",
     "collapsed": false,
     "input": [
      "with open('cosine.csv', \"w\") as output:\n",
      "    writer = csv.writer(output, lineterminator='\\n')\n",
      "    writer.writerows(cosine_values)"
     ],
     "language": "python",
     "metadata": {},
     "outputs": [],
     "prompt_number": 198
    },
    {
     "cell_type": "code",
     "collapsed": false,
     "input": [
      "import csv\n",
      "\n",
      "f = open('cosine.csv', 'wb')\n",
      "wr = csv.writer(f)\n",
      "wr.writerow(cosine_values)"
     ],
     "language": "python",
     "metadata": {},
     "outputs": [],
     "prompt_number": 195
    },
    {
     "cell_type": "code",
     "collapsed": false,
     "input": [
      "print len(cosine_values[0])"
     ],
     "language": "python",
     "metadata": {},
     "outputs": [
      {
       "output_type": "stream",
       "stream": "stdout",
       "text": [
        "99\n"
       ]
      }
     ],
     "prompt_number": 187
    },
    {
     "cell_type": "code",
     "collapsed": false,
     "input": [
      "print len(cosine_values)"
     ],
     "language": "python",
     "metadata": {},
     "outputs": [
      {
       "output_type": "stream",
       "stream": "stdout",
       "text": [
        "400\n"
       ]
      }
     ],
     "prompt_number": 146
    },
    {
     "cell_type": "code",
     "collapsed": false,
     "input": [],
     "language": "python",
     "metadata": {},
     "outputs": []
    }
   ],
   "metadata": {}
  }
 ]
}